{
 "cells": [
  {
   "cell_type": "markdown",
   "metadata": {
    "deletable": true,
    "editable": true
   },
   "source": [
    "# Self-Driving Car Engineer Nanodegree\n",
    "\n",
    "## Deep Learning\n",
    "\n",
    "## Project: Build a Traffic Sign Recognition Classifier\n",
    "\n",
    "In this notebook, a template is provided for you to implement your functionality in stages, which is required to successfully complete this project. If additional code is required that cannot be included in the notebook, be sure that the Python code is successfully imported and included in your submission if necessary. \n",
    "\n",
    "> **Note**: Once you have completed all of the code implementations, you need to finalize your work by exporting the iPython Notebook as an HTML document. Before exporting the notebook to html, all of the code cells need to have been run so that reviewers can see the final implementation and output. You can then export the notebook by using the menu above and navigating to  \\n\",\n",
    "    \"**File -> Download as -> HTML (.html)**. Include the finished document along with this notebook as your submission. \n",
    "\n",
    "In addition to implementing code, there is a writeup to complete. The writeup should be completed in a separate file, which can be either a markdown file or a pdf document. There is a [write up template](https://github.com/udacity/CarND-Traffic-Sign-Classifier-Project/blob/master/writeup_template.md) that can be used to guide the writing process. Completing the code template and writeup template will cover all of the [rubric points](https://review.udacity.com/#!/rubrics/481/view) for this project.\n",
    "\n",
    "The [rubric](https://review.udacity.com/#!/rubrics/481/view) contains \"Stand Out Suggestions\" for enhancing the project beyond the minimum requirements. The stand out suggestions are optional. If you decide to pursue the \"stand out suggestions\", you can include the code in this Ipython notebook and also discuss the results in the writeup file.\n",
    "\n",
    "\n",
    ">**Note:** Code and Markdown cells can be executed using the **Shift + Enter** keyboard shortcut. In addition, Markdown cells can be edited by typically double-clicking the cell to enter edit mode."
   ]
  },
  {
   "cell_type": "markdown",
   "metadata": {
    "deletable": true,
    "editable": true
   },
   "source": [
    "---\n",
    "## Step 0: Load The Data"
   ]
  },
  {
   "cell_type": "code",
   "execution_count": 15,
   "metadata": {
    "collapsed": false,
    "deletable": true,
    "editable": true
   },
   "outputs": [],
   "source": [
    "# Load pickled data\n",
    "import pickle\n",
    "import random\n",
    "import numpy as np\n",
    "import tensorflow as tf\n",
    "import matplotlib.pyplot as plt\n",
    "\n",
    "#Folder where training data is stored\n",
    "training_file = 'data/train.p'\n",
    "validation_file= 'data/valid.p'\n",
    "testing_file = 'data/test.p'\n",
    "\n",
    "#Open data files\n",
    "with open(training_file, mode='rb') as f:\n",
    "    train = pickle.load(f)\n",
    "with open(validation_file, mode='rb') as f:\n",
    "    valid = pickle.load(f)\n",
    "with open(testing_file, mode='rb') as f:\n",
    "    test = pickle.load(f)\n",
    "    \n",
    "#Set data holders\n",
    "X_train, y_train = train['features'], train['labels']\n",
    "X_valid, y_valid = valid['features'], valid['labels']\n",
    "X_test, y_test = test['features'], test['labels']"
   ]
  },
  {
   "cell_type": "markdown",
   "metadata": {
    "deletable": true,
    "editable": true
   },
   "source": [
    "---\n",
    "\n",
    "## Step 1: Dataset Summary & Exploration\n",
    "\n",
    "The pickled data is a dictionary with 4 key/value pairs:\n",
    "\n",
    "- `'features'` is a 4D array containing raw pixel data of the traffic sign images, (num examples, width, height, channels).\n",
    "- `'labels'` is a 1D array containing the label/class id of the traffic sign. The file `signnames.csv` contains id -> name mappings for each id.\n",
    "- `'sizes'` is a list containing tuples, (width, height) representing the original width and height the image.\n",
    "- `'coords'` is a list containing tuples, (x1, y1, x2, y2) representing coordinates of a bounding box around the sign in the image. **THESE COORDINATES ASSUME THE ORIGINAL IMAGE. THE PICKLED DATA CONTAINS RESIZED VERSIONS (32 by 32) OF THESE IMAGES**\n",
    "\n",
    "Complete the basic data summary below. Use python, numpy and/or pandas methods to calculate the data summary rather than hard coding the results. For example, the [pandas shape method](http://pandas.pydata.org/pandas-docs/stable/generated/pandas.DataFrame.shape.html) might be useful for calculating some of the summary results. "
   ]
  },
  {
   "cell_type": "markdown",
   "metadata": {
    "deletable": true,
    "editable": true
   },
   "source": [
    "### Provide a Basic Summary of the Data Set Using Python, Numpy and/or Pandas"
   ]
  },
  {
   "cell_type": "code",
   "execution_count": 16,
   "metadata": {
    "collapsed": false,
    "deletable": true,
    "editable": true
   },
   "outputs": [
    {
     "name": "stdout",
     "output_type": "stream",
     "text": [
      "Number of training examples = 34799\n",
      "Number of testing examples = 12630\n",
      "Image data shape = (32, 32, 3)\n",
      "Number of classes = 42\n",
      "\n",
      "Class distribution for training set\n"
     ]
    },
    {
     "data": {
      "image/png": "[encoded data removed]",
      "text/plain": [
       "<matplotlib.figure.Figure at 0x7f92fea2b710>"
      ]
     },
     "metadata": {},
     "output_type": "display_data"
    }
   ],
   "source": [
    "#Number of training examples\n",
    "n_train = X_train.shape[0]\n",
    "\n",
    "#Number of testing examples.\n",
    "n_test =  X_test.shape[0]\n",
    "\n",
    "#Get image shape\n",
    "image_shape =  X_train[0].shape\n",
    "\n",
    "#Number of unique classes/labels in the dataset.\n",
    "n_classes = np.amax(y_train)\n",
    "\n",
    "print(\"Number of training examples =\", n_train)\n",
    "print(\"Number of testing examples =\", n_test)\n",
    "print(\"Image data shape =\", image_shape)\n",
    "print(\"Number of classes =\", n_classes)\n",
    "print()\n",
    "print(\"Class distribution for training set\")\n",
    "\n",
    "#Histogram of classes distribution for the trainning set\n",
    "#Visualizations will be shown in the notebook.\n",
    "%matplotlib inline\n",
    "bins = [i for i in range(0, n_classes)]\n",
    "plt.hist(y_train, bins=bins) \n",
    "plt.savefig('layers/classes.png', dpi=100)\n",
    "plt.show()"
   ]
  },
  {
   "cell_type": "markdown",
   "metadata": {
    "deletable": true,
    "editable": true
   },
   "source": [
    "### Include an exploratory visualization of the dataset"
   ]
  },
  {
   "cell_type": "markdown",
   "metadata": {
    "deletable": true,
    "editable": true
   },
   "source": [
    "Visualize the German Traffic Signs Dataset using the pickled file(s). This is open ended, suggestions include: plotting traffic sign images, plotting the count of each sign, etc.\n",
    "\n",
    "The [Matplotlib](http://matplotlib.org/) [examples](http://matplotlib.org/examples/index.html) and [gallery](http://matplotlib.org/gallery.html) pages are a great resource for doing visualizations in Python.\n",
    "\n",
    "**NOTE:** It's recommended you start with something simple first. If you wish to do more, come back to it after you've completed the rest of the sections."
   ]
  },
  {
   "cell_type": "code",
   "execution_count": 17,
   "metadata": {
    "collapsed": false,
    "deletable": true,
    "editable": true
   },
   "outputs": [
    {
     "data": {
      "image/png": "[encoded data removed]",
      "text/plain": [
       "<matplotlib.figure.Figure at 0x7f9259c720b8>"
      ]
     },
     "metadata": {},
     "output_type": "display_data"
    },
    {
     "name": "stdout",
     "output_type": "stream",
     "text": [
      "23\n"
     ]
    }
   ],
   "source": [
    "#Select a random image from the training set\n",
    "index = random.randint(0, len(X_train))\n",
    "image = X_train[index].squeeze()\n",
    "\n",
    "#Show image\n",
    "plt.figure(figsize=(1,1))\n",
    "plt.imshow(image)\n",
    "plt.savefig('pre/original.png', dpi=300)\n",
    "plt.show()\n",
    "print(y_train[index])"
   ]
  },
  {
   "cell_type": "markdown",
   "metadata": {
    "deletable": true,
    "editable": true
   },
   "source": [
    "----\n",
    "\n",
    "## Step 2: Design and Test a Model Architecture\n",
    "\n",
    "Design and implement a deep learning model that learns to recognize traffic signs. Train and test your model on the [German Traffic Sign Dataset](http://benchmark.ini.rub.de/?section=gtsrb&subsection=dataset).\n",
    "\n",
    "The LeNet-5 implementation shown in the [classroom](https://classroom.udacity.com/nanodegrees/nd013/parts/fbf77062-5703-404e-b60c-95b78b2f3f9e/modules/6df7ae49-c61c-4bb2-a23e-6527e69209ec/lessons/601ae704-1035-4287-8b11-e2c2716217ad/concepts/d4aca031-508f-4e0b-b493-e7b706120f81) at the end of the CNN lesson is a solid starting point. You'll have to change the number of classes and possibly the preprocessing, but aside from that it's plug and play! \n",
    "\n",
    "With the LeNet-5 solution from the lecture, you should expect a validation set accuracy of about 0.89. To meet specifications, the validation set accuracy will need to be at least 0.93. It is possible to get an even higher accuracy, but 0.93 is the minimum for a successful project submission. \n",
    "\n",
    "There are various aspects to consider when thinking about this problem:\n",
    "\n",
    "- Neural network architecture (is the network over or underfitting?)\n",
    "- Play around preprocessing techniques (normalization, rgb to grayscale, etc)\n",
    "- Number of examples per label (some have more than others).\n",
    "- Generate fake data.\n",
    "\n",
    "Here is an example of a [published baseline model on this problem](http://yann.lecun.com/exdb/publis/pdf/sermanet-ijcnn-11.pdf). It's not required to be familiar with the approach used in the paper but, it's good practice to try to read papers like these."
   ]
  },
  {
   "cell_type": "markdown",
   "metadata": {
    "deletable": true,
    "editable": true
   },
   "source": [
    "### Pre-process the Data Set (normalization, grayscale, etc.)"
   ]
  },
  {
   "cell_type": "markdown",
   "metadata": {
    "deletable": true,
    "editable": true
   },
   "source": [
    "Use the code cell (or multiple code cells, if necessary) to implement the first step of your project."
   ]
  },
  {
   "cell_type": "code",
   "execution_count": 18,
   "metadata": {
    "collapsed": false,
    "deletable": true,
    "editable": true,
    "scrolled": true
   },
   "outputs": [
    {
     "name": "stdout",
     "output_type": "stream",
     "text": [
      "Example of Pre-processing image\n",
      "Pre-Processed image\n"
     ]
    },
    {
     "data": {
      "image/png": "[encoded data removed]",
      "text/plain": [
       "<matplotlib.figure.Figure at 0x7f92fdd0cef0>"
      ]
     },
     "metadata": {},
     "output_type": "display_data"
    },
    {
     "data": {
      "image/png": "[encoded data removed]",
      "text/plain": [
       "<matplotlib.figure.Figure at 0x7f92fd9b33c8>"
      ]
     },
     "metadata": {},
     "output_type": "display_data"
    }
   ],
   "source": [
    "from sklearn.utils import shuffle\n",
    "\n",
    "#Input and Output Placeholder for Neural Network\n",
    "x = tf.placeholder(tf.float32, (None, 32, 32, 3))\n",
    "y = tf.placeholder(tf.int32, (None))\n",
    "one_hot_y = tf.one_hot(y, 42) \n",
    "\n",
    "#Pre-Processing functions as part of the Pipeline\n",
    "#x_image = tf.map_fn(lambda img: tf.image.adjust_hue(img, 0.5), x)  \n",
    "x_image = tf.image.rgb_to_grayscale(x) \n",
    "#x_image = tf.image.adjust_contrast(x_image,0.8)\n",
    "#x_image = tf.image.adjust_brightness(x_image,  0.3)\n",
    "x_image = tf.map_fn(lambda img: tf.image.per_image_standardization(img), x_image) \n",
    "\n",
    "#Function to print pre-processed image\n",
    "def print_preprocessed_image(image):\n",
    "    print(\"Example of Pre-processing image\")\n",
    "    \n",
    "    plt.figure(figsize=(15,15))\n",
    "    plt.subplot(7,7,1)\n",
    "    plt.title(\"Original\")\n",
    "    plt.imshow(image)\n",
    " \n",
    "    #Pre-processing pipeline    \n",
    "    x_print = tf.placeholder(tf.float32, (None, 32, 32, 3))   \n",
    "    x_pre_hue = tf.map_fn(lambda img: tf.image.adjust_hue(img, 1), x_print)              \n",
    "    x_pre_gray     = tf.image.rgb_to_grayscale(x_print)      \n",
    "    x_pre_brightness = tf.image.random_brightness(x_print, max_delta=0.3)\n",
    "    x_pre_contrast = tf.image.random_contrast(x_print, 0.8, 1.2)\n",
    "    x_pre_standard = tf.map_fn(lambda img: tf.image.per_image_standardization(img), x_print)   \n",
    "    offset = tf.random_uniform([2], minval=-5, maxval=5, dtype=tf.float32)\n",
    "    x_pre_glimpse = tf.image.extract_glimpse(x_print, [32,32], [offset], centered=True, normalized=False, uniform_noise=False)\n",
    "    \n",
    "\n",
    "    with tf.Session() as sess:\n",
    "\n",
    "        p_gray = sess.run(x_pre_gray, feed_dict={x_print: [image]})                     \n",
    "        plt.subplot(7,7,2)\n",
    "        plt.title(\"Gray\")\n",
    "        plt.imshow(p_gray[0].squeeze(), cmap='gray')            \n",
    "        \n",
    "        p_glimpse = sess.run(x_pre_glimpse, feed_dict={x_print: [image]})    \n",
    "        plt.subplot(7,7,3)\n",
    "        plt.title(\"Glimpse\")\n",
    "        plt.imshow(p_glimpse[0])      \n",
    "        \n",
    "        p_standard = sess.run(x_pre_standard, feed_dict={x_print: [image]})         \n",
    "        plt.subplot(7,7,4)\n",
    "        plt.title(\"Standard\")\n",
    "        plt.imshow(p_standard[0]) \n",
    "        \n",
    "        p_contrast = sess.run(x_pre_contrast, feed_dict={x_print: [image]})         \n",
    "        plt.subplot(7,7,5)\n",
    "        plt.title(\"Contrast\")\n",
    "        plt.imshow(p_contrast[0])   \n",
    "        \n",
    "        p_brightness = sess.run(x_pre_brightness, feed_dict={x_print: [image]})     \n",
    "        plt.subplot(7,7,6)\n",
    "        plt.title(\"Brightness\")\n",
    "        plt.imshow(p_brightness[0])         \n",
    "        \n",
    "        p_hue = sess.run(x_pre_hue, feed_dict={x_print: [image]})         \n",
    "        plt.subplot(7,7,7)\n",
    "        plt.title(\"Hue\")\n",
    "        plt.imshow(p_hue[0])         \n",
    "        \n",
    "        plt.savefig('pre/augment.png', dpi=100)\n",
    "        \n",
    "        print(\"Pre-Processed image\")\n",
    "        \n",
    "        p_pre = sess.run(x_image, feed_dict={x: [image]})         \n",
    "        \n",
    "        plt.figure(figsize=(3,3))\n",
    "        plt.title(\"Pre-Processed Image\")   \n",
    "        plt.imshow(p_pre[0].squeeze(), cmap='gray')                 \n",
    "        plt.savefig('pre/pre-processed.png', dpi=100) \n",
    "        \n",
    "            \n",
    "print_preprocessed_image(image)"
   ]
  },
  {
   "cell_type": "code",
   "execution_count": 19,
   "metadata": {
    "collapsed": false,
    "deletable": true,
    "editable": true
   },
   "outputs": [],
   "source": [
    "#Data Augmentation\n",
    "\n",
    "#This tensor pipeline is to be used before the main neural network pipeline.\n",
    "#Change Contrast, Brightness and move (translation) the image randomly\n",
    "\n",
    "#The image may move up to 10 pixels up/down and/or righ/left\n",
    "offset = tf.random_uniform([256,2], minval=-5, maxval=5)\n",
    "\n",
    "#Here, the batch size is fixed because of a bug with the extract_glimpse function\n",
    "x_augment = tf.placeholder(tf.float32, (256, 32, 32, 3))\n",
    "x_augment_final = tf.image.random_contrast(x_augment, 0.8, 1.2)\n",
    "x_augment_final = tf.image.random_brightness(x_augment , max_delta=0.3) #2\n",
    "x_augment_final = tf.image.extract_glimpse(x_augment_final, [32,32], offset, centered=True, normalized=False, uniform_noise=True)    \n",
    "\n",
    "\n",
    "def print_augment_image():\n",
    "    print(\"Augmented image\")\n",
    "\n",
    "    with tf.Session() as sess:\n",
    "\n",
    "        p_aug = sess.run(x_augment_final, feed_dict={x_augment: [image]})                 \n",
    "        plt.figure(figsize=(3,3))\n",
    "        plt.title(\"Augmented Image\")   \n",
    "        plt.imshow(p_aug[0].squeeze(), cmap='gray')                 \n",
    "        plt.savefig('pre/pre-augmented.png', dpi=100)\n",
    "\n",
    "#print_augment_image()\n"
   ]
  },
  {
   "cell_type": "markdown",
   "metadata": {
    "deletable": true,
    "editable": true
   },
   "source": [
    "### Model Architecture"
   ]
  },
  {
   "cell_type": "code",
   "execution_count": 20,
   "metadata": {
    "collapsed": false,
    "deletable": true,
    "editable": true
   },
   "outputs": [
    {
     "name": "stdout",
     "output_type": "stream",
     "text": [
      "Network Architecture\n",
      "Layer 1: Convolutional\n",
      "(?, 32, 32, 6)\n",
      "Layer 2: Convolutional\n",
      "(?, 28, 28, 16)\n",
      "Pooling\n",
      "(?, 14, 14, 16)\n",
      "Layer 3: Convolutional\n",
      "(?, 12, 12, 32)\n",
      "Layer 4: Convolutional\n",
      "(?, 10, 10, 64)\n",
      "Pooling\n",
      "(?, 5, 5, 64)\n",
      "Layer 5: Fully connected\n",
      "(?, 400)\n",
      "Layer 6: Fully connected\n",
      "(?, 120)\n",
      "Layer 7: Fully connected\n",
      "(?, 84)\n",
      "Layer 8: Logits\n",
      "(?, 42)\n"
     ]
    }
   ],
   "source": [
    "from tensorflow.contrib.layers import flatten\n",
    "\n",
    "# Arguments used for tf.truncated_normal, randomly defines variables for the weights and biases for each layer\n",
    "mu = 0\n",
    "sigma = 0.1 \n",
    "keep_prob = tf.placeholder(tf.float32)\n",
    "    \n",
    "#Layer 1: Convolutional. Input = 32x32x1. Output = 32x32x6.    \n",
    "layer1_w = tf.Variable(tf.truncated_normal([5, 5, 1, 6], mu, sigma))\n",
    "layer1_b = tf.Variable(tf.zeros([6]))\n",
    "layer1 = tf.nn.conv2d(x_image, layer1_w, strides=[1, 1, 1, 1], padding='SAME', name = 'conv1')\n",
    "layer1 = tf.nn.bias_add(layer1, layer1_b)        \n",
    "#Relu Activation.\n",
    "layer1 =  tf.nn.relu(layer1, name='relu1')  \n",
    "    \n",
    "#Layer 2: Convolutional. Input = 32x32x6. Output = 28x28x16.    \n",
    "layer2_w = tf.Variable(tf.truncated_normal([5, 5, 6, 16], mu, sigma)) \n",
    "layer2_b = tf.Variable(tf.zeros([16])) \n",
    "layer2 = tf.nn.conv2d(layer1, layer2_w, strides=[1, 1, 1, 1], padding='VALID', name = 'conv2')\n",
    "layer2 = tf.nn.bias_add(layer2, layer2_b)        \n",
    "#Relu Activation.\n",
    "layer2 =  tf.nn.relu(layer2, name='relu2')\n",
    "\n",
    "#Pooling 1: Input = 28x28x16. Output = 14x14x16.\n",
    "pool1 = tf.nn.max_pool(layer2, ksize=[1, 2, 2, 1], strides=[1, 2, 2, 1], padding='VALID', name = 'pool1')\n",
    "    \n",
    "#Layer 3: Convolutional. Input = 14x14x16. Output = 12x12x32.\n",
    "layer3_w = tf.Variable(tf.truncated_normal([3, 3, 16, 32], mu, sigma)) \n",
    "layer3_b = tf.Variable(tf.zeros([32])) \n",
    "layer3 = tf.nn.conv2d(pool1, layer3_w, strides=[1, 1, 1, 1], padding='VALID', name = 'conv3')\n",
    "layer3 = tf.nn.bias_add(layer3, layer3_b)       \n",
    "#Activation.\n",
    "layer3 =  tf.nn.relu(layer3, name='relu3')\n",
    "    \n",
    "#Layer 4: Convolutional. Input = 12x12x32. Output = 14x14x64.\n",
    "layer4_w = tf.Variable(tf.truncated_normal([3, 3, 32, 64], mu, sigma)) \n",
    "layer4_b = tf.Variable(tf.zeros([64])) \n",
    "layer4 = tf.nn.conv2d(layer3, layer4_w, strides=[1, 1, 1, 1], padding='VALID', name = 'conv4')\n",
    "layer4 = tf.nn.bias_add(layer4, layer4_b)    \n",
    "#Activation.\n",
    "layer4 =  tf.nn.relu(layer4, name='relu4')\n",
    "\n",
    "#Pooling 2: Input = 10x10x64. Output = 5x5x64.\n",
    "pool2 = tf.nn.max_pool(layer4, ksize=[1, 2, 2, 1], strides=[1, 2, 2, 1], padding='VALID', name = 'pool2') \n",
    "\n",
    "#Flatten. Input = 5x5x64. Output = 1600.\n",
    "fc1 = flatten(pool2)\n",
    "    \n",
    "#Dropout for generalization\n",
    "drop_out1 = tf.nn.dropout(fc1, keep_prob)\n",
    "    \n",
    "#Layer 5: Fully Connected. Input = 1600. Output = 400.\n",
    "layer5_w = tf.Variable(tf.truncated_normal([1600, 400], mu, sigma)) \n",
    "layer5_b = tf.Variable(tf.zeros([400]))     \n",
    "layer5 = tf.add(tf.matmul(drop_out1, layer5_w), layer5_b)    \n",
    "#Activation.\n",
    "layer5 = tf.nn.relu(layer5)\n",
    "\n",
    "#Dropout for generalization\n",
    "drop_out2 = tf.nn.dropout(layer5, keep_prob)\n",
    "    \n",
    "#Layer 6: Fully Connected. Input = 400. Output = 120.\n",
    "layer6_w = tf.Variable(tf.truncated_normal([400, 120], mu, sigma)) \n",
    "layer6_b = tf.Variable(tf.zeros([120]))     \n",
    "layer6 = tf.add(tf.matmul(drop_out2, layer6_w), layer6_b)    \n",
    "#Activation.\n",
    "layer6 = tf.nn.relu(layer6)\n",
    "\n",
    "#Layer 7: Fully Connected. Input = 120. Output = 84.\n",
    "layer7_w = tf.Variable(tf.truncated_normal([120, 84], mu, sigma)) \n",
    "layer7_b = tf.Variable(tf.zeros([84]))     \n",
    "layer7 = tf.add(tf.matmul(layer6, layer7_w), layer7_b)    \n",
    "#Activation.\n",
    "layer7 = tf.nn.relu(layer7)\n",
    "\n",
    "#Logits: Fully Connected. Input = 84. Output = 42.\n",
    "logits_w = tf.Variable(tf.truncated_normal([84, 42], mu, sigma)) \n",
    "logits_b = tf.Variable(tf.zeros([42]))     \n",
    "logits = tf.add(tf.matmul(layer7, logits_w), logits_b)    \n",
    "\n",
    "#Show network topology\n",
    "print(\"Network Architecture\")\n",
    "print(\"Layer 1: Convolutional\")\n",
    "print(layer1.get_shape())\n",
    "print(\"Layer 2: Convolutional\")\n",
    "print(layer2.get_shape())\n",
    "print(\"Pooling\")\n",
    "print(pool1.get_shape())\n",
    "print(\"Layer 3: Convolutional\")\n",
    "print(layer3.get_shape())\n",
    "print(\"Layer 4: Convolutional\")\n",
    "print(layer4.get_shape())\n",
    "print(\"Pooling\")\n",
    "print(pool2.get_shape())\n",
    "print(\"Layer 5: Fully connected\")\n",
    "print(layer5.get_shape())\n",
    "print(\"Layer 6: Fully connected\")\n",
    "print(layer6.get_shape())\n",
    "print(\"Layer 7: Fully connected\")\n",
    "print(layer7.get_shape())\n",
    "print(\"Layer 8: Logits\")\n",
    "print(logits.get_shape())\n",
    "\n",
    "    \n"
   ]
  },
  {
   "cell_type": "markdown",
   "metadata": {
    "deletable": true,
    "editable": true
   },
   "source": [
    "### Train, Validate and Test the Model"
   ]
  },
  {
   "cell_type": "markdown",
   "metadata": {
    "deletable": true,
    "editable": true
   },
   "source": [
    "A validation set can be used to assess how well the model is performing. A low accuracy on the training and validation\n",
    "sets imply underfitting. A high accuracy on the training set but low accuracy on the validation set implies overfitting."
   ]
  },
  {
   "cell_type": "code",
   "execution_count": 21,
   "metadata": {
    "collapsed": false,
    "deletable": true,
    "editable": true
   },
   "outputs": [
    {
     "name": "stdout",
     "output_type": "stream",
     "text": [
      "Training...\n",
      "\n",
      "##############################\n",
      "Trainning with Standard Data\n",
      "##############################\n",
      "\n",
      "EPOCH 1 ...\n",
      "Validation Accuracy (Standard Dataset) = 0.817 / 0.000\n",
      "Model saved\n",
      "\n",
      "EPOCH 2 ...\n",
      "Validation Accuracy (Standard Dataset) = 0.924 / 0.817\n",
      "New learning rate = 0.000200\n",
      "Model saved\n",
      "\n",
      "EPOCH 3 ...\n",
      "Validation Accuracy (Standard Dataset) = 0.946 / 0.924\n",
      "Model saved\n",
      "\n",
      "EPOCH 4 ...\n",
      "Validation Accuracy (Standard Dataset) = 0.948 / 0.946\n",
      "Model saved\n",
      "\n",
      "EPOCH 5 ...\n",
      "Validation Accuracy (Standard Dataset) = 0.950 / 0.948\n",
      "Model saved\n",
      "\n",
      "EPOCH 6 ...\n",
      "Validation Accuracy (Standard Dataset) = 0.942 / 0.950\n",
      "\n",
      "EPOCH 7 ...\n",
      "Validation Accuracy (Standard Dataset) = 0.842 / 0.950\n",
      "New learning rate = 0.000040\n",
      "\n",
      "EPOCH 8 ...\n",
      "Validation Accuracy (Standard Dataset) = 0.815 / 0.950\n",
      "New learning rate = 0.000008\n",
      "\n",
      "EPOCH 9 ...\n",
      "Validation Accuracy (Standard Dataset) = 0.838 / 0.950\n",
      "\n",
      "EPOCH 10 ...\n",
      "Validation Accuracy (Standard Dataset) = 0.819 / 0.950\n",
      "New learning rate = 0.000002\n",
      "\n",
      "##############################\n",
      "Trainning with Augmented Data\n",
      "##############################\n",
      "\n",
      "EPOCH 11 ...\n",
      "Validation Accuracy (Standard Dataset) = 0.951 / 0.000\n",
      "New learning rate = 0.000040\n",
      "Model saved\n",
      "\n",
      "EPOCH 12 ...\n",
      "Validation Accuracy (Standard Dataset) = 0.955 / 0.945\n",
      "Model saved\n",
      "\n",
      "EPOCH 13 ...\n",
      "Validation Accuracy (Standard Dataset) = 0.952 / 0.948\n",
      "Model saved\n",
      "\n",
      "EPOCH 14 ...\n",
      "Validation Accuracy (Standard Dataset) = 0.951 / 0.950\n",
      "\n",
      "EPOCH 15 ...\n",
      "Validation Accuracy (Standard Dataset) = 0.953 / 0.950\n",
      "Model saved\n",
      "\n",
      "EPOCH 16 ...\n",
      "Validation Accuracy (Standard Dataset) = 0.946 / 0.952\n",
      "\n",
      "EPOCH 17 ...\n",
      "Validation Accuracy (Standard Dataset) = 0.943 / 0.952\n",
      "\n",
      "EPOCH 18 ...\n",
      "Validation Accuracy (Standard Dataset) = 0.930 / 0.952\n",
      "New learning rate = 0.000008\n",
      "\n",
      "EPOCH 19 ...\n",
      "Validation Accuracy (Standard Dataset) = 0.927 / 0.952\n",
      "\n",
      "EPOCH 20 ...\n",
      "Validation Accuracy (Standard Dataset) = 0.927 / 0.952\n",
      "New learning rate = 0.000020\n",
      "\n"
     ]
    }
   ],
   "source": [
    "EPOCHS = 20\n",
    "#Setup for augmenting data\n",
    "augment_data = True\n",
    "#Augment Data start after epoch 10\n",
    "augment_data_epoch = 10\n",
    "\n",
    "#Batch Size\n",
    "BATCH_SIZE = 256\n",
    "\n",
    "#Adjustable learning rate to improve convergence\n",
    "learning_rate = tf.placeholder(tf.float32, shape=[])\n",
    "#Initial learning rate\n",
    "rate = 0.001\n",
    "#Learning Rate decay\n",
    "delta_rate = 5\n",
    "\n",
    "\n",
    "#Loss and Optmizer definition\n",
    "cross_entropy = tf.nn.softmax_cross_entropy_with_logits(logits=logits, labels=one_hot_y)\n",
    "loss_operation = tf.reduce_mean(cross_entropy)\n",
    "optimizer = tf.train.AdamOptimizer(learning_rate = learning_rate) \n",
    "training_operation = optimizer.minimize(loss_operation)\n",
    "correct_prediction = tf.equal(tf.argmax(logits, 1), tf.argmax(one_hot_y, 1))\n",
    "accuracy_operation = tf.reduce_mean(tf.cast(correct_prediction, tf.float32))\n",
    "\n",
    "#Saver instance to save the network weights\n",
    "saver = tf.train.Saver()\n",
    "\n",
    "#Evaluation function for accuracy check\n",
    "def evaluate(X_data, y_data, use_augment_data = False):\n",
    "    num_examples = len(X_data) \n",
    "    total_accuracy = 0 \n",
    "    sess = tf.get_default_session()\n",
    "    for offset in range(0, num_examples, BATCH_SIZE):\n",
    "        batch_x, batch_y = X_data[offset:offset+BATCH_SIZE], y_data[offset:offset+BATCH_SIZE]\n",
    "        accuracy = 0\n",
    "        if use_augment_data:\n",
    "            if offset+BATCH_SIZE > num_examples:\n",
    "                #Function extract glimpse has a bug and does not support variable batchc size\n",
    "                #Stops the execution before the last step because the batch dimension is not 256 and\n",
    "                #extract glimpse will broke.\n",
    "                num_examples -= BATCH_SIZE\n",
    "                continue\n",
    "            batch_x_augment = sess.run(x_augment_final, feed_dict={x_augment: batch_x})\n",
    "            #Run optmizer\n",
    "            accuracy = sess.run(accuracy_operation, feed_dict={x: batch_x_augment, y: batch_y, keep_prob:1})  \n",
    "        else:\n",
    "            accuracy = sess.run(accuracy_operation, feed_dict={x: batch_x, y: batch_y, keep_prob:1})\n",
    "        total_accuracy += (accuracy * len(batch_x))\n",
    "    return total_accuracy / num_examples\n",
    "\n",
    "\n",
    "#Session        \n",
    "with tf.Session() as sess:\n",
    "    sess.run(tf.global_variables_initializer())\n",
    "    num_examples = n_train\n",
    "    #Starting learning rate value\n",
    "    new_rate = rate\n",
    "    #Keep track of last and best accuracy achieved\n",
    "    last_accuracy = 0\n",
    "    max_accuracy = 0\n",
    "    since_max_accuracy = 0\n",
    "    save_rate = 0\n",
    "\n",
    "    print(\"Training...\")\n",
    "    print()\n",
    "    print(\"##############################\")\n",
    "    print(\"Trainning with Standard Data\")\n",
    "    print(\"##############################\")\n",
    "    print()\n",
    "    for i in range(EPOCHS):\n",
    "            \n",
    "        if i == augment_data_epoch:\n",
    "            #Start trainning with augmented data\n",
    "            print(\"##############################\")\n",
    "            print(\"Trainning with Augmented Data\")\n",
    "            print(\"##############################\")\n",
    "            print()\n",
    "            last_accuracy=0                 \n",
    "            max_accuracy = 0\n",
    "            #Restore best model without augmented data\n",
    "            saver.restore(sess, tf.train.latest_checkpoint('.'))\n",
    "            new_rate = save_rate# / 10\n",
    "                \n",
    "        X_train, y_train = shuffle(X_train, y_train)\n",
    "\n",
    "        for offset in range(0, num_examples, BATCH_SIZE):\n",
    "            #Select batch                \n",
    "            end = offset + BATCH_SIZE               \n",
    "            batch_x, batch_y = X_train[offset:end], y_train[offset:end]\n",
    "            #Augment data\n",
    "            if augment_data and i >= augment_data_epoch:\n",
    "                if end > num_examples:\n",
    "                    #Function extract glimpse has a bug and does not support variable batchc size\n",
    "                    #Stops the execution before the last step because the batch dimension is not 256 and\n",
    "                    #extract glimpse will broke.\n",
    "                    continue\n",
    "                #Augmenting dataset ...\n",
    "                batch_x_augment = sess.run(x_augment_final, feed_dict={x_augment: batch_x})\n",
    "                #Run optmizer\n",
    "                sess.run(training_operation, feed_dict={x: batch_x_augment, y: batch_y, learning_rate: new_rate, keep_prob:0.5})  #0.3\n",
    "            else:\n",
    "                #Run optmizer\n",
    "                sess.run(training_operation, feed_dict={x: batch_x, y: batch_y, learning_rate: new_rate, keep_prob:0.5}) \n",
    "\n",
    "\n",
    "        #Check accuracy        \n",
    "        print(\"EPOCH {} ...\".format(i+1))        \n",
    "        if  augment_data and i >= augment_data_epoch:\n",
    "            #Using Augmented Dataset\n",
    "            validation_accuracy = evaluate(X_valid, y_valid, True)            \n",
    "            validation_accuracy2 = evaluate(X_valid, y_valid)            \n",
    "            #optmize the average\n",
    "            validation_accuracy = (validation_accuracy + validation_accuracy2)/float(2)\n",
    "            print(\"Validation Accuracy (Standard Dataset) = {:.3f} / {:.3f}\".format(validation_accuracy2, max_accuracy)) \n",
    "        else:\n",
    "            #Using Standard Dataset\n",
    "            validation_accuracy = evaluate(X_valid, y_valid)\n",
    "            print(\"Validation Accuracy (Standard Dataset) = {:.3f} / {:.3f}\".format(validation_accuracy, max_accuracy)) \n",
    "    \n",
    "        #Learning rate is adjusted if necessary to avoid the model from diverging\n",
    "        if (validation_accuracy > 0.9 or last_accuracy!=0):\n",
    "            if (last_accuracy==0 or (validation_accuracy - last_accuracy) < -0.01): #last_accuracy==0 or \n",
    "                #if accuracy decrease more than 0.2%, learning is decreased by a factor of delta_rate\n",
    "                new_rate = new_rate / delta_rate\n",
    "                print(\"New learning rate = {:.6f}\".format(new_rate))\n",
    "            elif ((validation_accuracy - last_accuracy) > -0.001 and ((validation_accuracy - last_accuracy) <= 0.001)):\n",
    "                #if accuracy does not change, learning is increased by a factor of 10\n",
    "                new_rate = new_rate * (delta_rate/2)\n",
    "                print(\"New learning rate = {:.6f}\".format(new_rate))\n",
    "            last_accuracy = validation_accuracy\n",
    "        #Save model only if accuracy is higher\n",
    "        if validation_accuracy > max_accuracy:\n",
    "            saver.save(sess, './lenet')\n",
    "            max_accuracy = validation_accuracy\n",
    "            save_rate = new_rate\n",
    "            since_max_accuracy = 0\n",
    "            print(\"Model saved\")\n",
    "        #recover model if accuracy droped fast to avoid divergence\n",
    "        elif max_accuracy > validation_accuracy and \\\n",
    "            (max_accuracy - validation_accuracy > 0.2 or \\\n",
    "            validation_accuracy < 0.3):# or \\\n",
    "            #since_max_accuracy > 3:\n",
    "            print(\"Restore model from last checkpoint\")\n",
    "            saver.restore(sess, tf.train.latest_checkpoint('.'))\n",
    "            new_rate = save_rate / delta_rate\n",
    "            save_rate = new_rate\n",
    "            last_accuracy = max_accuracy\n",
    "            #new_rate = new_rate / delta_rate\n",
    "            print(\"New learning rate = {:.6f}\".format(new_rate))\n",
    "            since_max_accuracy = 0\n",
    "        else:\n",
    "            since_max_accuracy = since_max_accuracy + 1\n",
    "        print()    \n",
    "        "
   ]
  },
  {
   "cell_type": "code",
   "execution_count": 22,
   "metadata": {
    "collapsed": false
   },
   "outputs": [
    {
     "name": "stdout",
     "output_type": "stream",
     "text": [
      "Summary:\n",
      "Accuracy for the trainning set: 0.980\n",
      "Accuracy for the validation set: 0.953\n"
     ]
    }
   ],
   "source": [
    "#print Final Summary for Trainning\n",
    "print(\"Summary:\")\n",
    "with tf.Session() as sess:\n",
    "        saver.restore(sess, tf.train.latest_checkpoint('.'))\n",
    "        validation_accuracy = evaluate(X_valid, y_valid)\n",
    "        validation_trainning_accuracy = evaluate(X_train, y_train)\n",
    "        print(\"Accuracy for the trainning set: {:.3f}\".format(validation_trainning_accuracy))\n",
    "        print(\"Accuracy for the validation set: {:.3f}\".format(validation_accuracy))"
   ]
  },
  {
   "cell_type": "code",
   "execution_count": 23,
   "metadata": {
    "collapsed": false,
    "deletable": true,
    "editable": true
   },
   "outputs": [
    {
     "name": "stdout",
     "output_type": "stream",
     "text": [
      "Accuracy check for test set:\n",
      "Test Accuracy = 0.941\n"
     ]
    }
   ],
   "source": [
    "#Accuracy check for test set\n",
    "print(\"Accuracy check for test set:\")\n",
    "with tf.Session() as sess:\n",
    "    #Load last mocel checkpoint\n",
    "    saver.restore(sess, tf.train.latest_checkpoint('.'))\n",
    "    #Evaluation Check\n",
    "    test_accuracy = evaluate(X_test, y_test)\n",
    "    print(\"Test Accuracy = {:.3f}\".format(test_accuracy))"
   ]
  },
  {
   "cell_type": "markdown",
   "metadata": {
    "deletable": true,
    "editable": true
   },
   "source": [
    "---\n",
    "\n",
    "## Step 3: Test a Model on New Images\n",
    "\n",
    "To give yourself more insight into how your model is working, download at least five pictures of German traffic signs from the web and use your model to predict the traffic sign type.\n",
    "\n",
    "You may find `signnames.csv` useful as it contains mappings from the class id (integer) to the actual sign name."
   ]
  },
  {
   "cell_type": "markdown",
   "metadata": {
    "deletable": true,
    "editable": true
   },
   "source": [
    "### Load and Output the Images"
   ]
  },
  {
   "cell_type": "code",
   "execution_count": 24,
   "metadata": {
    "collapsed": false,
    "deletable": true,
    "editable": true
   },
   "outputs": [
    {
     "name": "stdout",
     "output_type": "stream",
     "text": [
      "   Oringal      Cropped     Hand Cropped\n",
      "Number of examples at trainning set:2010\n"
     ]
    },
    {
     "data": {
      "image/png": "[encoded data removed]",
      "text/plain": [
       "<matplotlib.figure.Figure at 0x7f92e821f5c0>"
      ]
     },
     "metadata": {},
     "output_type": "display_data"
    },
    {
     "name": "stdout",
     "output_type": "stream",
     "text": [
      "Number of examples at trainning set:1260\n"
     ]
    },
    {
     "data": {
      "image/png": "[encoded data removed]",
      "text/plain": [
       "<matplotlib.figure.Figure at 0x7f92a090c978>"
      ]
     },
     "metadata": {},
     "output_type": "display_data"
    },
    {
     "name": "stdout",
     "output_type": "stream",
     "text": [
      "Number of examples at trainning set:480\n"
     ]
    },
    {
     "data": {
      "image/png": "[encoded data removed]",
      "text/plain": [
       "<matplotlib.figure.Figure at 0x7f923053bc18>"
      ]
     },
     "metadata": {},
     "output_type": "display_data"
    },
    {
     "name": "stdout",
     "output_type": "stream",
     "text": [
      "Number of examples at trainning set:1860\n"
     ]
    },
    {
     "data": {
      "image/png": "[encoded data removed]",
      "text/plain": [
       "<matplotlib.figure.Figure at 0x7f923053b320>"
      ]
     },
     "metadata": {},
     "output_type": "display_data"
    },
    {
     "name": "stdout",
     "output_type": "stream",
     "text": [
      "Number of examples at trainning set:690\n"
     ]
    },
    {
     "data": {
      "image/png": "[encoded data removed]",
      "text/plain": [
       "<matplotlib.figure.Figure at 0x7f9294abdda0>"
      ]
     },
     "metadata": {},
     "output_type": "display_data"
    }
   ],
   "source": [
    "import matplotlib.pyplot as plt\n",
    "import matplotlib.image as mpimg\n",
    "import os\n",
    "import cv2\n",
    "\n",
    "#path for images downloaded from the web\n",
    "PATH_ORIGINAL = 'german_signs/original/'\n",
    "PATH_HAND_CROP = 'german_signs/crop/'\n",
    "\n",
    "#get dataset statistics for images\n",
    "y_hist = np.histogram(y_train, range(0, n_classes))\n",
    "\n",
    "#image holders\n",
    "web_images_original = []\n",
    "web_images_crop = []\n",
    "web_images_hand_crop = []\n",
    "\n",
    "#labels\n",
    "web_images_labels = [2,3,28,38,14]\n",
    "\n",
    "i=0\n",
    "#Get original and crop images\n",
    "for f in os.listdir(PATH_ORIGINAL): \n",
    "    #open image \n",
    "    img = mpimg.imread(PATH_ORIGINAL + f)      \n",
    "    \n",
    "    #crop center to avoid distortion\n",
    "    iy,ix,ic = img.shape\n",
    "    startx = ix//2-(352//2)\n",
    "    starty = iy//2-(352//2)    \n",
    "    img_crop = img[0:starty+352,startx:startx+352]\n",
    "    #resize\n",
    "    img = cv2.resize(img,(32,32))\n",
    "    img_crop = cv2.resize(img_crop,(32,32))\n",
    "    #store\n",
    "    web_images_original.append(img)\n",
    "    web_images_crop.append(img_crop) \n",
    "    \n",
    "    \n",
    "#Get hand cropped images for accuracy comparison\n",
    "for f in os.listdir(PATH_HAND_CROP): \n",
    "    #open image \n",
    "    img = mpimg.imread(PATH_HAND_CROP + f)     \n",
    "    #resize\n",
    "    img = cv2.resize(img,(32,32))     \n",
    "    web_images_hand_crop.append(img)\n",
    "     \n",
    "#print images\n",
    "print(\"   Oringal      Cropped     Hand Cropped\")\n",
    "for i in range(5):\n",
    "    plt.figure(figsize=(5,5))    \n",
    "    plt.subplot(3,3,1)\n",
    "    plt.imshow(web_images_original[i]) \n",
    "    plt.subplot(3,3,2)\n",
    "    plt.imshow(web_images_crop[i]) \n",
    "    plt.subplot(3,3,3)\n",
    "    plt.imshow(web_images_hand_crop[i]) \n",
    "    print(\"Number of examples at trainning set:{}\".format(y_hist[0][web_images_labels[i]]))\n",
    "    plt.show()\n",
    "    \n",
    "web_images_original = np.array(web_images_original)\n",
    "web_images_crop = np.array(web_images_crop)\n",
    "web_images_hand_crop = np.array(web_images_hand_crop)\n",
    "\n",
    "\n"
   ]
  },
  {
   "cell_type": "markdown",
   "metadata": {
    "deletable": true,
    "editable": true
   },
   "source": [
    "### Predict the Sign Type for Each Image"
   ]
  },
  {
   "cell_type": "code",
   "execution_count": 25,
   "metadata": {
    "collapsed": false,
    "deletable": true,
    "editable": true,
    "scrolled": true
   },
   "outputs": [
    {
     "name": "stdout",
     "output_type": "stream",
     "text": [
      "Prediction for original images from the web\n",
      "Prediction is  2\n",
      "Prediction is  39\n",
      "Prediction is  31\n",
      "Prediction is  10\n",
      "Prediction is  2\n",
      "\n",
      "Prediction for croped images from the web\n",
      "Prediction is  2\n",
      "Prediction is  2\n",
      "Prediction is  28\n",
      "Prediction is  38\n",
      "Prediction is  1\n",
      "\n",
      "Prediction for hand croped images from the web\n",
      "Prediction is  1\n",
      "Prediction is  3\n",
      "Prediction is  28\n",
      "Prediction is  38\n",
      "Prediction is  14\n"
     ]
    }
   ],
   "source": [
    "#Predict labels for the images collected from the web\n",
    "#Pre-Processing functionas are part of the tensor pipeline (see Pre-process the Data Set above)\n",
    "\n",
    "web_images_prediction_original = []\n",
    "web_images_prediction_crop = []\n",
    "web_images_prediction_hand_crop = []\n",
    "\n",
    "x_web = tf.placeholder(tf.float32, (None, 32, 32, 3))\n",
    "x_crop = tf.map_fn(lambda img: tf.image.resize_image_with_crop_or_pad(img, 32, 32), x_web) \n",
    "\n",
    "with tf.Session() as sess:\n",
    "    saver.restore(sess, tf.train.latest_checkpoint('.'))\n",
    "    \n",
    "    #x_web_images = sess.run(x_crop, feed_dict={x_web: web_images})\n",
    "    \n",
    "    #for img in x_web_images:\n",
    "    #    plt.imshow(img)\n",
    "    \n",
    "    print(\"Prediction for original images from the web\")\n",
    "    for prediction in sess.run(logits, feed_dict={x: web_images_original, keep_prob:1}):\n",
    "        web_images_prediction_original.append(np.argmax(prediction))\n",
    "        print('Prediction is ', np.argmax(prediction))\n",
    "        \n",
    "    print()\n",
    "    print(\"Prediction for croped images from the web\")\n",
    "    for prediction in sess.run(logits, feed_dict={x: web_images_crop, keep_prob:1}):\n",
    "        web_images_prediction_crop.append(np.argmax(prediction))\n",
    "        print('Prediction is ', np.argmax(prediction))\n",
    "        \n",
    "    print()\n",
    "    print(\"Prediction for hand croped images from the web\")\n",
    "    for prediction in sess.run(logits, feed_dict={x: web_images_hand_crop, keep_prob:1}):\n",
    "        web_images_prediction_hand_crop.append(np.argmax(prediction))\n",
    "        print('Prediction is ', np.argmax(prediction))"
   ]
  },
  {
   "cell_type": "markdown",
   "metadata": {
    "deletable": true,
    "editable": true
   },
   "source": [
    "### Analyze Performance"
   ]
  },
  {
   "cell_type": "code",
   "execution_count": 26,
   "metadata": {
    "collapsed": false,
    "deletable": true,
    "editable": true
   },
   "outputs": [
    {
     "name": "stdout",
     "output_type": "stream",
     "text": [
      "Accuracy Evaluation for Web Images\n",
      "Accuracy for the original images is 0.200000\n",
      "Accuracy for the cropped images is 0.600000\n",
      "Accuracy for the hand cropped images is 0.800000\n"
     ]
    }
   ],
   "source": [
    "### Calculate the accuracy for these 5 new images. \n",
    "### For example, if the model predicted 1 out of 5 signs correctly, it's 20% accurate on these new images.\n",
    "print(\"Accuracy Evaluation for Web Images\")\n",
    "ok_original = 0\n",
    "ok_crop = 0\n",
    "ok_hand_crop = 0\n",
    "for i in range(5):\n",
    "    if web_images_prediction_original[i] == web_images_labels[i]:\n",
    "        ok_original=ok_original+1\n",
    "    if web_images_prediction_crop[i] == web_images_labels[i]:\n",
    "        ok_crop=ok_crop+1\n",
    "    if web_images_prediction_hand_crop[i] == web_images_labels[i]:\n",
    "        ok_hand_crop=ok_hand_crop+1\n",
    "        \n",
    "print(\"Accuracy for the original images is {:.6f}\".format(ok_original/float(5)))\n",
    "print(\"Accuracy for the cropped images is {:.6f}\".format(ok_crop/float(5)))\n",
    "print(\"Accuracy for the hand cropped images is {:.6f}\".format(ok_hand_crop/float(5)))\n"
   ]
  },
  {
   "cell_type": "markdown",
   "metadata": {
    "deletable": true,
    "editable": true
   },
   "source": [
    "### Output Top 5 Softmax Probabilities For Each Image Found on the Web"
   ]
  },
  {
   "cell_type": "markdown",
   "metadata": {
    "deletable": true,
    "editable": true
   },
   "source": [
    "For each of the new images, print out the model's softmax probabilities to show the **certainty** of the model's predictions (limit the output to the top 5 probabilities for each image). [`tf.nn.top_k`](https://www.tensorflow.org/versions/r0.12/api_docs/python/nn.html#top_k) could prove helpful here. \n",
    "\n",
    "The example below demonstrates how tf.nn.top_k can be used to find the top k predictions for each image.\n",
    "\n",
    "`tf.nn.top_k` will return the values and indices (class ids) of the top k predictions. So if k=3, for each sign, it'll return the 3 largest probabilities (out of a possible 43) and the correspoding class ids.\n",
    "\n",
    "Take this numpy array as an example. The values in the array represent predictions. The array contains softmax probabilities for five candidate images with six possible classes. `tk.nn.top_k` is used to choose the three classes with the highest probability:\n",
    "\n",
    "```\n",
    "# (5, 6) array\n",
    "a = np.array([[ 0.24879643,  0.07032244,  0.12641572,  0.34763842,  0.07893497,\n",
    "         0.12789202],\n",
    "       [ 0.28086119,  0.27569815,  0.08594638,  0.0178669 ,  0.18063401,\n",
    "         0.15899337],\n",
    "       [ 0.26076848,  0.23664738,  0.08020603,  0.07001922,  0.1134371 ,\n",
    "         0.23892179],\n",
    "       [ 0.11943333,  0.29198961,  0.02605103,  0.26234032,  0.1351348 ,\n",
    "         0.16505091],\n",
    "       [ 0.09561176,  0.34396535,  0.0643941 ,  0.16240774,  0.24206137,\n",
    "         0.09155967]])\n",
    "```\n",
    "\n",
    "Running it through `sess.run(tf.nn.top_k(tf.constant(a), k=3))` produces:\n",
    "\n",
    "```\n",
    "TopKV2(values=array([[ 0.34763842,  0.24879643,  0.12789202],\n",
    "       [ 0.28086119,  0.27569815,  0.18063401],\n",
    "       [ 0.26076848,  0.23892179,  0.23664738],\n",
    "       [ 0.29198961,  0.26234032,  0.16505091],\n",
    "       [ 0.34396535,  0.24206137,  0.16240774]]), indices=array([[3, 0, 5],\n",
    "       [0, 1, 4],\n",
    "       [0, 5, 1],\n",
    "       [1, 3, 5],\n",
    "       [1, 4, 3]], dtype=int32))\n",
    "```\n",
    "\n",
    "Looking just at the first row we get `[ 0.34763842,  0.24879643,  0.12789202]`, you can confirm these are the 3 largest probabilities in `a`. You'll also notice `[3, 0, 5]` are the corresponding indices."
   ]
  },
  {
   "cell_type": "code",
   "execution_count": 27,
   "metadata": {
    "collapsed": false,
    "deletable": true,
    "editable": true
   },
   "outputs": [
    {
     "name": "stdout",
     "output_type": "stream",
     "text": [
      "Top 5 for orginal imagens\n",
      "TopKV2(values=array([[ -0.56185359,  -3.53999877,  -6.00792933,  -7.17753029,\n",
      "         -7.74564552],\n",
      "       [-30.70123672, -31.45501709, -32.39606094, -32.48050308,\n",
      "        -32.51905823],\n",
      "       [-15.95860386, -18.2342968 , -18.49680519, -18.88083076,\n",
      "        -19.02024841],\n",
      "       [-33.6007576 , -34.05527115, -36.15953827, -36.57634354,\n",
      "        -39.37133408],\n",
      "       [-17.04763222, -17.45761681, -18.97702217, -19.55384064,\n",
      "        -19.82723236]], dtype=float32), indices=array([[ 2,  1, 31,  5,  8],\n",
      "       [39,  2, 33, 40,  9],\n",
      "       [31, 29, 25, 28, 20],\n",
      "       [10, 38, 23, 13, 25],\n",
      "       [ 2,  1,  5, 14, 39]], dtype=int32))\n",
      "\n",
      "Top 5 for cropped imagens\n",
      "TopKV2(values=array([[  2.60223889,  -1.40805769,  -3.84999561,  -4.14655876,\n",
      "         -5.99263763],\n",
      "       [-18.58110428, -22.1368866 , -22.2668972 , -22.75520134,\n",
      "        -23.10085869],\n",
      "       [  2.17925549,  -4.16434383,  -4.51405859,  -4.80171537,\n",
      "         -5.08514118],\n",
      "       [ -3.66046286, -15.07588291, -19.93175507, -20.28438377, -20.5541954 ],\n",
      "       [-18.5743351 , -18.95454979, -18.97277641, -19.61182976,\n",
      "        -19.98533249]], dtype=float32), indices=array([[ 2, 31, 21,  1, 29],\n",
      "       [ 2,  1,  5, 31,  3],\n",
      "       [28, 24, 30, 20, 29],\n",
      "       [38, 22, 14, 13, 34],\n",
      "       [ 1, 12,  2,  5, 40]], dtype=int32))\n",
      "\n",
      "Top 5 for hand cropped imagens\n",
      "TopKV2(values=array([[-20.37064743, -22.97569466, -23.93574333, -24.82605553,\n",
      "        -26.05402184],\n",
      "       [-18.9593029 , -24.7347641 , -25.11065865, -28.97098732,\n",
      "        -32.22979355],\n",
      "       [  3.79544282,  -3.17344761,  -6.86938   ,  -6.91965723,\n",
      "         -7.62939358],\n",
      "       [-10.62836647, -16.4361248 , -18.4177494 , -18.48516464,\n",
      "        -20.84451866],\n",
      "       [  0.04485473,  -7.31732035,  -7.36214876,  -7.93417215,\n",
      "         -9.69051361]], dtype=float32), indices=array([[ 1,  2,  0,  5,  6],\n",
      "       [ 3,  2,  5,  1,  0],\n",
      "       [28, 30, 11, 20, 27],\n",
      "       [38, 13, 22, 12, 14],\n",
      "       [14,  1,  2,  4,  8]], dtype=int32))\n"
     ]
    }
   ],
   "source": [
    "### Print out the top five softmax probabilities for the predictions on the German traffic sign images found on the web. \n",
    "\n",
    "top_k_op = tf.nn.top_k(logits, k=5)\n",
    "\n",
    "with tf.Session() as sess:\n",
    "    saver.restore(sess, tf.train.latest_checkpoint('.'))\n",
    "\n",
    "    print(\"Top 5 for orginal imagens\")\n",
    "    logs = sess.run(top_k_op, feed_dict={x: web_images_original, keep_prob:1})\n",
    "    print(logs)\n",
    "    \n",
    "    print()\n",
    "    print(\"Top 5 for cropped imagens\")\n",
    "    logs = sess.run(top_k_op, feed_dict={x: web_images_crop, keep_prob:1})\n",
    "    print(logs)\n",
    "    \n",
    "    print()\n",
    "    print(\"Top 5 for hand cropped imagens\")\n",
    "    logs = sess.run(top_k_op, feed_dict={x: web_images_hand_crop, keep_prob:1})\n",
    "    print(logs)"
   ]
  },
  {
   "cell_type": "markdown",
   "metadata": {
    "deletable": true,
    "editable": true
   },
   "source": [
    "---\n",
    "\n",
    "## Step 4: Visualize the Neural Network's State with Test Images\n",
    "\n",
    " This Section is not required to complete but acts as an additional excersise for understaning the output of a neural network's weights. While neural networks can be a great learning device they are often referred to as a black box. We can understand what the weights of a neural network look like better by plotting their feature maps. After successfully training your neural network you can see what it's feature maps look like by plotting the output of the network's weight layers in response to a test stimuli image. From these plotted feature maps, it's possible to see what characteristics of an image the network finds interesting. For a sign, maybe the inner network feature maps react with high activation to the sign's boundary outline or to the contrast in the sign's painted symbol.\n",
    "\n",
    " Provided for you below is the function code that allows you to get the visualization output of any tensorflow weight layer you want. The inputs to the function should be a stimuli image, one used during training or a new one you provided, and then the tensorflow variable name that represents the layer's state during the training process, for instance if you wanted to see what the [LeNet lab's](https://classroom.udacity.com/nanodegrees/nd013/parts/fbf77062-5703-404e-b60c-95b78b2f3f9e/modules/6df7ae49-c61c-4bb2-a23e-6527e69209ec/lessons/601ae704-1035-4287-8b11-e2c2716217ad/concepts/d4aca031-508f-4e0b-b493-e7b706120f81) feature maps looked like for it's second convolutional layer you could enter conv2 as the tf_activation variable.\n",
    "\n",
    "For an example of what feature map outputs look like, check out NVIDIA's results in their paper [End-to-End Deep Learning for Self-Driving Cars](https://devblogs.nvidia.com/parallelforall/deep-learning-self-driving-cars/) in the section Visualization of internal CNN State. NVIDIA was able to show that their network's inner weights had high activations to road boundary lines by comparing feature maps from an image with a clear path to one without. Try experimenting with a similar test to show that your trained network's weights are looking for interesting features, whether it's looking at differences in feature maps from images with or without a sign, or even what feature maps look like in a trained network vs a completely untrained one on the same sign image.\n",
    "\n",
    "<figure>\n",
    " <img src=\"visualize_cnn.png\" width=\"380\" alt=\"Combined Image\" />\n",
    " <figcaption>\n",
    " <p></p> \n",
    " <p style=\"text-align: center;\"> Your output should look something like this (above)</p> \n",
    " </figcaption>\n",
    "</figure>\n",
    " <p></p> \n"
   ]
  },
  {
   "cell_type": "code",
   "execution_count": 31,
   "metadata": {
    "collapsed": false,
    "deletable": true,
    "editable": true
   },
   "outputs": [
    {
     "name": "stdout",
     "output_type": "stream",
     "text": [
      "Neural Network images saved at layer folder\n"
     ]
    }
   ],
   "source": [
    "### Visualize your network's feature maps here.\n",
    "### Feel free to use as many code cells as needed.\n",
    "\n",
    "# image_input: the test image being fed into the network to produce the feature maps\n",
    "# tf_activation: should be a tf variable name used during your training procedure that represents the calculated state of a specific weight layer\n",
    "# activation_min/max: can be used to view the activation contrast in more detail, by default matplot sets min and max to the actual min and max values of the output\n",
    "# plt_num: used to plot out multiple different weight feature map sets on the same block, just extend the plt number for each new feature map entry\n",
    "\n",
    "def outputFeatureMap(name, image_input, tf_activation, activation_min=-1, activation_max=-1 ,plt_num=1):\n",
    "    # Here make sure to preprocess your image_input in a way your network expects\n",
    "    # with size, normalization, ect if needed\n",
    "    # image_input =\n",
    "    # Note: x should be the same name as your network's tensorflow data placeholder variable\n",
    "    # If you get an error tf_activation is not defined it maybe having trouble accessing the variable from inside a function\n",
    "    activation = tf_activation.eval(session=sess,feed_dict={x : image_input})\n",
    "    featuremaps = activation.shape[3]\n",
    "    plt.figure(plt_num, figsize=(15,15))\n",
    "    plt.suptitle('Layer ' + layer, fontsize=14, fontweight='bold') \n",
    "    for featuremap in range(featuremaps):\n",
    "        plt.subplot(8,8, featuremap+1) # sets the number of feature maps to show on each row and column\n",
    "        plt.title('FeatureMap ' + str(featuremap)) # displays the feature map number\n",
    "        if activation_min != -1 & activation_max != -1:\n",
    "            plt.imshow(activation[0,:,:, featuremap], interpolation=\"nearest\", vmin =activation_min, vmax=activation_max, cmap=\"gray\")\n",
    "        elif activation_max != -1:\n",
    "            plt.imshow(activation[0,:,:, featuremap], interpolation=\"nearest\", vmax=activation_max, cmap=\"gray\")\n",
    "        elif activation_min !=-1:\n",
    "            plt.imshow(activation[0,:,:, featuremap], interpolation=\"nearest\", vmin=activation_min, cmap=\"gray\")\n",
    "        else:\n",
    "            plt.imshow(activation[0,:,:, featuremap], interpolation=\"nearest\", cmap=\"gray\")\n",
    "    plt.savefig('layers/' + name + '.png', dpi=100)\n",
    "\n",
    "#Print All Layer images        \n",
    "layers = ['conv1:0', 'relu1:0', 'conv2:0', 'relu2:0', 'pool1:0', 'conv3:0', 'relu3:0', 'conv4:0', 'relu4:0', 'pool2:0']\n",
    "            \n",
    "with tf.Session() as sess:\n",
    "    saver.restore(sess, tf.train.latest_checkpoint('.'))    \n",
    "    for layer in layers:        \n",
    "        activation = sess.graph.get_tensor_by_name(layer)\n",
    "        outputFeatureMap(layer, [web_images_hand_crop[0]], activation) \n",
    "        \n",
    "print(\"Neural Network images saved at layer folder\")"
   ]
  },
  {
   "cell_type": "markdown",
   "metadata": {
    "deletable": true,
    "editable": true
   },
   "source": [
    "### Question 9\n",
    "\n",
    "Discuss how you used the visual output of your trained network's feature maps to show that it had learned to look for interesting characteristics in traffic sign images\n"
   ]
  },
  {
   "cell_type": "markdown",
   "metadata": {
    "deletable": true,
    "editable": true
   },
   "source": [
    "**Answer:**\n",
    "\n",
    "The visual output of the network layers helpes to understand if the network is learning the image features. For this project, the presence of black images on the visual output helped to understand the poor results our starting network was having. In addition, the visual output also show the network learned filters, i.e., what the network is filtering for every layer. "
   ]
  },
  {
   "cell_type": "markdown",
   "metadata": {
    "deletable": true,
    "editable": true
   },
   "source": [
    "> **Note**: Once you have completed all of the code implementations and successfully answered each question above, you may finalize your work by exporting the iPython Notebook as an HTML document. You can do this by using the menu above and navigating to  \\n\",\n",
    "    \"**File -> Download as -> HTML (.html)**. Include the finished document along with this notebook as your submission."
   ]
  },
  {
   "cell_type": "markdown",
   "metadata": {
    "deletable": true,
    "editable": true
   },
   "source": [
    "### Project Writeup\n",
    "\n",
    "Once you have completed the code implementation, document your results in a project writeup using this [template](https://github.com/udacity/CarND-Traffic-Sign-Classifier-Project/blob/master/writeup_template.md) as a guide. The writeup can be in a markdown or pdf file. "
   ]
  }
 ],
 "metadata": {
  "anaconda-cloud": {},
  "kernelspec": {
   "display_name": "Python 3",
   "language": "python",
   "name": "python3"
  },
  "language_info": {
   "codemirror_mode": {
    "name": "ipython",
    "version": 3
   },
   "file_extension": ".py",
   "mimetype": "text/x-python",
   "name": "python",
   "nbconvert_exporter": "python",
   "pygments_lexer": "ipython3",
   "version": "3.5.2"
  },
  "widgets": {
   "state": {},
   "version": "1.1.2"
  }
 },
 "nbformat": 4,
 "nbformat_minor": 1
}
