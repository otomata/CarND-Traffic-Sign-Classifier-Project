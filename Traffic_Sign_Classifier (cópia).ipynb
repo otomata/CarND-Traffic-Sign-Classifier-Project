{
 "cells": [
  {
   "cell_type": "markdown",
   "metadata": {
    "deletable": true,
    "editable": true
   },
   "source": [
    "# Self-Driving Car Engineer Nanodegree\n",
    "\n",
    "## Deep Learning\n",
    "\n",
    "## Project: Build a Traffic Sign Recognition Classifier\n",
    "\n",
    "In this notebook, a template is provided for you to implement your functionality in stages, which is required to successfully complete this project. If additional code is required that cannot be included in the notebook, be sure that the Python code is successfully imported and included in your submission if necessary. \n",
    "\n",
    "> **Note**: Once you have completed all of the code implementations, you need to finalize your work by exporting the iPython Notebook as an HTML document. Before exporting the notebook to html, all of the code cells need to have been run so that reviewers can see the final implementation and output. You can then export the notebook by using the menu above and navigating to  \\n\",\n",
    "    \"**File -> Download as -> HTML (.html)**. Include the finished document along with this notebook as your submission. \n",
    "\n",
    "In addition to implementing code, there is a writeup to complete. The writeup should be completed in a separate file, which can be either a markdown file or a pdf document. There is a [write up template](https://github.com/udacity/CarND-Traffic-Sign-Classifier-Project/blob/master/writeup_template.md) that can be used to guide the writing process. Completing the code template and writeup template will cover all of the [rubric points](https://review.udacity.com/#!/rubrics/481/view) for this project.\n",
    "\n",
    "The [rubric](https://review.udacity.com/#!/rubrics/481/view) contains \"Stand Out Suggestions\" for enhancing the project beyond the minimum requirements. The stand out suggestions are optional. If you decide to pursue the \"stand out suggestions\", you can include the code in this Ipython notebook and also discuss the results in the writeup file.\n",
    "\n",
    "\n",
    ">**Note:** Code and Markdown cells can be executed using the **Shift + Enter** keyboard shortcut. In addition, Markdown cells can be edited by typically double-clicking the cell to enter edit mode."
   ]
  },
  {
   "cell_type": "markdown",
   "metadata": {
    "deletable": true,
    "editable": true
   },
   "source": [
    "---\n",
    "## Step 0: Load The Data"
   ]
  },
  {
   "cell_type": "code",
   "execution_count": 47,
   "metadata": {
    "collapsed": false,
    "deletable": true,
    "editable": true
   },
   "outputs": [],
   "source": [
    "# Load pickled data\n",
    "import pickle\n",
    "import numpy as np\n",
    "import tensorflow as tf\n",
    "\n",
    "#Folder where training data is stored\n",
    "training_file = 'data/train.p'\n",
    "validation_file= 'data/valid.p'\n",
    "testing_file = 'data/test.p'\n",
    "\n",
    "#Open data files\n",
    "with open(training_file, mode='rb') as f:\n",
    "    train = pickle.load(f)\n",
    "with open(validation_file, mode='rb') as f:\n",
    "    valid = pickle.load(f)\n",
    "with open(testing_file, mode='rb') as f:\n",
    "    test = pickle.load(f)\n",
    "    \n",
    "#Set data holders\n",
    "X_train, y_train = train['features'], train['labels']\n",
    "X_valid, y_valid = valid['features'], valid['labels']\n",
    "X_test, y_test = test['features'], test['labels']"
   ]
  },
  {
   "cell_type": "markdown",
   "metadata": {
    "deletable": true,
    "editable": true
   },
   "source": [
    "---\n",
    "\n",
    "## Step 1: Dataset Summary & Exploration\n",
    "\n",
    "The pickled data is a dictionary with 4 key/value pairs:\n",
    "\n",
    "- `'features'` is a 4D array containing raw pixel data of the traffic sign images, (num examples, width, height, channels).\n",
    "- `'labels'` is a 1D array containing the label/class id of the traffic sign. The file `signnames.csv` contains id -> name mappings for each id.\n",
    "- `'sizes'` is a list containing tuples, (width, height) representing the original width and height the image.\n",
    "- `'coords'` is a list containing tuples, (x1, y1, x2, y2) representing coordinates of a bounding box around the sign in the image. **THESE COORDINATES ASSUME THE ORIGINAL IMAGE. THE PICKLED DATA CONTAINS RESIZED VERSIONS (32 by 32) OF THESE IMAGES**\n",
    "\n",
    "Complete the basic data summary below. Use python, numpy and/or pandas methods to calculate the data summary rather than hard coding the results. For example, the [pandas shape method](http://pandas.pydata.org/pandas-docs/stable/generated/pandas.DataFrame.shape.html) might be useful for calculating some of the summary results. "
   ]
  },
  {
   "cell_type": "markdown",
   "metadata": {
    "deletable": true,
    "editable": true
   },
   "source": [
    "### Provide a Basic Summary of the Data Set Using Python, Numpy and/or Pandas"
   ]
  },
  {
   "cell_type": "code",
   "execution_count": 65,
   "metadata": {
    "collapsed": false,
    "deletable": true,
    "editable": true
   },
   "outputs": [
    {
     "name": "stdout",
     "output_type": "stream",
     "text": [
      "Number of training examples = 34799\n",
      "Number of testing examples = 12630\n",
      "Image data shape = (32, 32, 3)\n",
      "Number of classes = 42\n",
      "\n",
      "Class distribution for trainning set\n"
     ]
    },
    {
     "data": {
      "image/png": "[encoded data removed]",
      "text/plain": [
       "<matplotlib.figure.Figure at 0x7f8525505860>"
      ]
     },
     "metadata": {},
     "output_type": "display_data"
    }
   ],
   "source": [
    "#Number of training examples\n",
    "n_train = X_train.shape[0]\n",
    "\n",
    "#Number of testing examples.\n",
    "n_test =  X_test.shape[0]\n",
    "\n",
    "#Get image shape\n",
    "image_shape =  X_train[0].shape\n",
    "\n",
    "#Number of unique classes/labels in the dataset.\n",
    "n_classes = np.amax(y_train)\n",
    "\n",
    "#Print summary\n",
    "print(\"Number of training examples =\", n_train)\n",
    "print(\"Number of testing examples =\", n_test)\n",
    "print(\"Image data shape =\", image_shape)\n",
    "print(\"Number of classes =\", n_classes)\n",
    "print()\n",
    "print(\"Class distribution for training set\")\n",
    "#Histogram of classes distribution for the trainning set\n",
    "bins = [i for i in range(0, n_classes)]\n",
    "plt.hist(y_train, bins=bins) \n",
    "plt.savefig('layers/classes.png', dpi=100)"
   ]
  },
  {
   "cell_type": "markdown",
   "metadata": {
    "deletable": true,
    "editable": true
   },
   "source": [
    "### Include an exploratory visualization of the dataset"
   ]
  },
  {
   "cell_type": "markdown",
   "metadata": {
    "deletable": true,
    "editable": true
   },
   "source": [
    "Visualize the German Traffic Signs Dataset using the pickled file(s). This is open ended, suggestions include: plotting traffic sign images, plotting the count of each sign, etc.\n",
    "\n",
    "The [Matplotlib](http://matplotlib.org/) [examples](http://matplotlib.org/examples/index.html) and [gallery](http://matplotlib.org/gallery.html) pages are a great resource for doing visualizations in Python.\n",
    "\n",
    "**NOTE:** It's recommended you start with something simple first. If you wish to do more, come back to it after you've completed the rest of the sections."
   ]
  },
  {
   "cell_type": "code",
   "execution_count": 3,
   "metadata": {
    "collapsed": false,
    "deletable": true,
    "editable": true
   },
   "outputs": [
    {
     "name": "stdout",
     "output_type": "stream",
     "text": [
      "2\n"
     ]
    },
    {
     "data": {
      "image/png": "[encoded data removed]",
      "text/plain": [
       "<matplotlib.figure.Figure at 0x7f85264565c0>"
      ]
     },
     "metadata": {},
     "output_type": "display_data"
    }
   ],
   "source": [
    "import random\n",
    "import matplotlib.pyplot as plt\n",
    "\n",
    "# Visualizations will be shown in the notebook.\n",
    "%matplotlib inline\n",
    "\n",
    "#Select a random image from the training set\n",
    "index = random.randint(0, len(X_train))\n",
    "image = X_train[index].squeeze()\n",
    "\n",
    "#Show image\n",
    "plt.figure(figsize=(1,1))\n",
    "plt.imshow(image)\n",
    "print(y_train[index])"
   ]
  },
  {
   "cell_type": "markdown",
   "metadata": {
    "deletable": true,
    "editable": true
   },
   "source": [
    "----\n",
    "\n",
    "## Step 2: Design and Test a Model Architecture\n",
    "\n",
    "Design and implement a deep learning model that learns to recognize traffic signs. Train and test your model on the [German Traffic Sign Dataset](http://benchmark.ini.rub.de/?section=gtsrb&subsection=dataset).\n",
    "\n",
    "The LeNet-5 implementation shown in the [classroom](https://classroom.udacity.com/nanodegrees/nd013/parts/fbf77062-5703-404e-b60c-95b78b2f3f9e/modules/6df7ae49-c61c-4bb2-a23e-6527e69209ec/lessons/601ae704-1035-4287-8b11-e2c2716217ad/concepts/d4aca031-508f-4e0b-b493-e7b706120f81) at the end of the CNN lesson is a solid starting point. You'll have to change the number of classes and possibly the preprocessing, but aside from that it's plug and play! \n",
    "\n",
    "With the LeNet-5 solution from the lecture, you should expect a validation set accuracy of about 0.89. To meet specifications, the validation set accuracy will need to be at least 0.93. It is possible to get an even higher accuracy, but 0.93 is the minimum for a successful project submission. \n",
    "\n",
    "There are various aspects to consider when thinking about this problem:\n",
    "\n",
    "- Neural network architecture (is the network over or underfitting?)\n",
    "- Play around preprocessing techniques (normalization, rgb to grayscale, etc)\n",
    "- Number of examples per label (some have more than others).\n",
    "- Generate fake data.\n",
    "\n",
    "Here is an example of a [published baseline model on this problem](http://yann.lecun.com/exdb/publis/pdf/sermanet-ijcnn-11.pdf). It's not required to be familiar with the approach used in the paper but, it's good practice to try to read papers like these."
   ]
  },
  {
   "cell_type": "markdown",
   "metadata": {
    "deletable": true,
    "editable": true
   },
   "source": [
    "### Pre-process the Data Set (normalization, grayscale, etc.)"
   ]
  },
  {
   "cell_type": "markdown",
   "metadata": {
    "deletable": true,
    "editable": true
   },
   "source": [
    "Use the code cell (or multiple code cells, if necessary) to implement the first step of your project."
   ]
  },
  {
   "cell_type": "code",
   "execution_count": 4,
   "metadata": {
    "collapsed": false,
    "deletable": true,
    "editable": true
   },
   "outputs": [],
   "source": [
    "from sklearn.utils import shuffle\n",
    "### Preprocess the data here. Preprocessing steps could include normalization, converting to grayscale, etc.\n",
    "### Feel free to use as many code cells as needed.\n",
    "\n",
    "x = tf.placeholder(tf.float32, (None, 32, 32, 3))\n",
    "x_image = tf.image.rgb_to_grayscale(x)\n",
    "x_image = tf.map_fn(lambda img: tf.image.per_image_standardization(img), x_image) \n",
    "\n",
    "y = tf.placeholder(tf.int32, (None))\n",
    "one_hot_y = tf.one_hot(y, 42)\n",
    "\n",
    "keep_prob = tf.placeholder(tf.float32)\n"
   ]
  },
  {
   "cell_type": "markdown",
   "metadata": {
    "deletable": true,
    "editable": true
   },
   "source": [
    "### Model Architecture"
   ]
  },
  {
   "cell_type": "code",
   "execution_count": 10,
   "metadata": {
    "collapsed": false,
    "deletable": true,
    "editable": true
   },
   "outputs": [
    {
     "name": "stdout",
     "output_type": "stream",
     "text": [
      "(?, 32, 32, 6)\n",
      "(?, 28, 28, 16)\n",
      "(?, 14, 14, 16)\n",
      "(?, 12, 12, 32)\n",
      "(?, 10, 10, 64)\n",
      "(?, 5, 5, 64)\n",
      "(?, 1600)\n",
      "(?, 400)\n",
      "(?, 120)\n",
      "(?, 84)\n"
     ]
    }
   ],
   "source": [
    "### Define your architecture here.\n",
    "### Feel free to use as many code cells as needed.\n",
    "\n",
    "from tensorflow.contrib.layers import flatten\n",
    "\n",
    "def LeNet(x):    \n",
    "    # Arguments used for tf.truncated_normal, randomly defines variables for the weights and biases for each layer\n",
    "    mu = 0\n",
    "    sigma = 0.1 \n",
    "    \n",
    "    #Layer 1: Convolutional. Input = 32x32x1. Output = 30x30x6.    \n",
    "    wc1 = tf.Variable(tf.truncated_normal([5, 5, 1, 6], mu, sigma), name = 'conv1')\n",
    "    bc1 = tf.Variable(tf.zeros([6]), name = 'conv1_bias')\n",
    "    l1 = tf.nn.conv2d(x, wc1, strides=[1, 1, 1, 1], padding='SAME')\n",
    "    l1 = tf.nn.bias_add(l1, bc1)\n",
    "        \n",
    "    #Activation.\n",
    "    a1 =  tf.nn.relu(l1, name='relu1')    \n",
    "    print(a1.get_shape())\n",
    "    \n",
    "    #Layer 1: Convolutional. Input = 30x30x6. Output = 28x28x16.    \n",
    "    wcc1 = tf.Variable(tf.truncated_normal([5, 5, 6, 16], mu, sigma), name = 'conv2') \n",
    "    bcc1 = tf.Variable(tf.zeros([16]), name = 'conv2_bias') \n",
    "    ll1 = tf.nn.conv2d(a1, wcc1, strides=[1, 1, 1, 1], padding='VALID')\n",
    "    ll1 = tf.nn.bias_add(ll1, bcc1)\n",
    "        \n",
    "    #Activation.\n",
    "    aa1 =  tf.nn.relu(ll1)\n",
    "    print(aa1.get_shape())\n",
    "\n",
    "    #Pooling. Input = 28x28x16. Output = 14x14x16.\n",
    "    p1 = tf.nn.max_pool(aa1, ksize=[1, 2, 2, 1], strides=[1, 2, 2, 1], padding='VALID', name = 'pool1')\n",
    "    print(p1.get_shape())\n",
    "    \n",
    "    #Layer 2: Convolutional. Output = 10x10x16.\n",
    "    wc2 = tf.Variable(tf.truncated_normal([3, 3, 16, 32], mu, sigma), name = 'conv3_weights') \n",
    "    bc2 = tf.Variable(tf.zeros([32]), name = 'conv3_bias') \n",
    "    l2 = tf.nn.conv2d(p1, wc2, strides=[1, 1, 1, 1], padding='VALID')\n",
    "    l2 = tf.nn.bias_add(l2, bc2)   \n",
    "    \n",
    "    #Activation.\n",
    "    a2 =  tf.nn.relu(l2)\n",
    "    print(a2.get_shape())\n",
    "    \n",
    "    wcc2 = tf.Variable(tf.truncated_normal([3, 3, 32, 64], mu, sigma), name = 'conv4_weights') \n",
    "    bcc2 = tf.Variable(tf.zeros([64]), name = 'conv4_bias') \n",
    "    ll2 = tf.nn.conv2d(a2, wcc2, strides=[1, 1, 1, 1], padding='VALID')\n",
    "    ll2 = tf.nn.bias_add(ll2, bcc2)\n",
    "    \n",
    "    #Activation.\n",
    "    aa2 =  tf.nn.relu(ll2)\n",
    "    print(aa2.get_shape())\n",
    "\n",
    "    #Pooling. Input = 10x10x16. Output = 5x5x16.\n",
    "    p2 = tf.nn.max_pool(aa2, ksize=[1, 2, 2, 1], strides=[1, 2, 2, 1], padding='VALID', name = 'pool2')\n",
    "    \n",
    "    print(p2.get_shape())\n",
    "    #Flatten. Input = 5x5x16. Output = 400.\n",
    "    fc1 = flatten(p2)\n",
    "    print(fc1.get_shape())\n",
    "    \n",
    "    #Dropout for generalization\n",
    "    drop_out = tf.nn.dropout(fc1, keep_prob)\n",
    "    \n",
    "    #Layer 3: Fully Connected. Input = 1600. Output = 8000.\n",
    "    wdd2 = tf.Variable(tf.truncated_normal([1600, 400], mu, sigma)) \n",
    "    bdd2 = tf.Variable(tf.zeros([400]))     \n",
    "    fcc2 = tf.add(tf.matmul(drop_out, wdd2), bdd2)\n",
    "    \n",
    "    #Activation.\n",
    "    a3 = tf.nn.relu(fcc2)\n",
    "    print(a3.get_shape())\n",
    "    \n",
    "    #Layer 3: Fully Connected. Input = 400. Output = 120.\n",
    "    wd2 = tf.Variable(tf.truncated_normal([400, 120], mu, sigma)) \n",
    "    bd2 = tf.Variable(tf.zeros([120]))     \n",
    "    fc2 = tf.add(tf.matmul(a3, wd2), bd2)\n",
    "    \n",
    "    #Activation.\n",
    "    a4 = tf.nn.relu(fc2)\n",
    "    print(a4.get_shape())\n",
    "    #Layer 4: Fully Connected. Input = 120. Output = 84.\n",
    "    wd3 = tf.Variable(tf.truncated_normal([120, 84], mu, sigma)) \n",
    "    bd3 = tf.Variable(tf.zeros([84]))     \n",
    "    fc3 = tf.add(tf.matmul(a4, wd3), bd3)\n",
    "    \n",
    "    #Activation.\n",
    "    a5 = tf.nn.relu(fc3)\n",
    "    print(a5.get_shape())\n",
    "    #Fully Connected. Input = 84. Output = 42.\n",
    "    wd4 = tf.Variable(tf.truncated_normal([84, 42], mu, sigma)) \n",
    "    bd4 = tf.Variable(tf.zeros([42]))     \n",
    "    logits = tf.add(tf.matmul(a5, wd4), bd4)    \n",
    "    \n",
    "    return logits\n",
    "\n",
    "# Arguments used for tf.truncated_normal, randomly defines variables for the weights and biases for each layer\n",
    "mu = 0\n",
    "sigma = 0.1 \n",
    "    \n",
    "#Layer 1: Convolutional. Input = 32x32x1. Output = 30x30x6.    \n",
    "wc1 = tf.Variable(tf.truncated_normal([5, 5, 1, 6], mu, sigma))\n",
    "bc1 = tf.Variable(tf.zeros([6]))\n",
    "l1 = tf.nn.conv2d(x_image, wc1, strides=[1, 1, 1, 1], padding='SAME', name = 'conv1')\n",
    "l1 = tf.nn.bias_add(l1, bc1)\n",
    "        \n",
    "#Activation.\n",
    "a1 =  tf.nn.relu(l1, name='relu1')    \n",
    "print(a1.get_shape())\n",
    "    \n",
    "#Layer 1: Convolutional. Input = 30x30x6. Output = 28x28x16.    \n",
    "wcc1 = tf.Variable(tf.truncated_normal([5, 5, 6, 16], mu, sigma)) \n",
    "bcc1 = tf.Variable(tf.zeros([16])) \n",
    "ll1 = tf.nn.conv2d(a1, wcc1, strides=[1, 1, 1, 1], padding='VALID', name = 'conv2')\n",
    "ll1 = tf.nn.bias_add(ll1, bcc1)\n",
    "        \n",
    "#Activation.\n",
    "aa1 =  tf.nn.relu(ll1, name='relu2')\n",
    "print(aa1.get_shape())\n",
    "\n",
    "#Pooling. Input = 28x28x16. Output = 14x14x16.\n",
    "p1 = tf.nn.max_pool(aa1, ksize=[1, 2, 2, 1], strides=[1, 2, 2, 1], padding='VALID', name = 'pool1')\n",
    "print(p1.get_shape())\n",
    "    \n",
    "#Layer 2: Convolutional. Output = 10x10x16.\n",
    "wc2 = tf.Variable(tf.truncated_normal([3, 3, 16, 32], mu, sigma)) \n",
    "bc2 = tf.Variable(tf.zeros([32])) \n",
    "l2 = tf.nn.conv2d(p1, wc2, strides=[1, 1, 1, 1], padding='VALID', name = 'conv3')\n",
    "l2 = tf.nn.bias_add(l2, bc2)   \n",
    "    \n",
    "#Activation.\n",
    "a2 =  tf.nn.relu(l2, name='relu3')\n",
    "print(a2.get_shape())\n",
    "    \n",
    "wcc2 = tf.Variable(tf.truncated_normal([3, 3, 32, 64], mu, sigma)) \n",
    "bcc2 = tf.Variable(tf.zeros([64])) \n",
    "ll2 = tf.nn.conv2d(a2, wcc2, strides=[1, 1, 1, 1], padding='VALID', name = 'conv4')\n",
    "ll2 = tf.nn.bias_add(ll2, bcc2)\n",
    "    \n",
    "#Activation.\n",
    "aa2 =  tf.nn.relu(ll2, name='relu4')\n",
    "print(aa2.get_shape())\n",
    "\n",
    "#Pooling. Input = 10x10x16. Output = 5x5x16.\n",
    "p2 = tf.nn.max_pool(aa2, ksize=[1, 2, 2, 1], strides=[1, 2, 2, 1], padding='VALID', name = 'pool2')\n",
    "    \n",
    "print(p2.get_shape())\n",
    "#Flatten. Input = 5x5x16. Output = 400.\n",
    "fc1 = flatten(p2)\n",
    "print(fc1.get_shape())\n",
    "    \n",
    "#Dropout for generalization\n",
    "drop_out = tf.nn.dropout(fc1, keep_prob)\n",
    "    \n",
    "#Layer 3: Fully Connected. Input = 1600. Output = 8000.\n",
    "wdd2 = tf.Variable(tf.truncated_normal([1600, 400], mu, sigma)) \n",
    "bdd2 = tf.Variable(tf.zeros([400]))     \n",
    "fcc2 = tf.add(tf.matmul(drop_out, wdd2), bdd2)\n",
    "    \n",
    "#Activation.\n",
    "a3 = tf.nn.relu(fcc2, name = 'fc1')\n",
    "print(a3.get_shape())\n",
    "    \n",
    "#Layer 3: Fully Connected. Input = 400. Output = 120.\n",
    "wd2 = tf.Variable(tf.truncated_normal([400, 120], mu, sigma)) \n",
    "bd2 = tf.Variable(tf.zeros([120]))     \n",
    "fc2 = tf.add(tf.matmul(a3, wd2), bd2)\n",
    "    \n",
    "#Activation.\n",
    "a4 = tf.nn.relu(fc2, name = 'fc2')\n",
    "print(a4.get_shape())\n",
    "#Layer 4: Fully Connected. Input = 120. Output = 84.\n",
    "wd3 = tf.Variable(tf.truncated_normal([120, 84], mu, sigma)) \n",
    "bd3 = tf.Variable(tf.zeros([84]))     \n",
    "fc3 = tf.add(tf.matmul(a4, wd3), bd3)\n",
    "    \n",
    "#Activation.\n",
    "a5 = tf.nn.relu(fc3, name = 'fc3')\n",
    "print(a5.get_shape())\n",
    "#Fully Connected. Input = 84. Output = 42.\n",
    "wd4 = tf.Variable(tf.truncated_normal([84, 42], mu, sigma)) \n",
    "bd4 = tf.Variable(tf.zeros([42]))     \n",
    "logits = tf.add(tf.matmul(a5, wd4), bd4, name = 'fc4')    \n",
    "    \n"
   ]
  },
  {
   "cell_type": "markdown",
   "metadata": {
    "deletable": true,
    "editable": true
   },
   "source": [
    "### Train, Validate and Test the Model"
   ]
  },
  {
   "cell_type": "markdown",
   "metadata": {
    "deletable": true,
    "editable": true
   },
   "source": [
    "A validation set can be used to assess how well the model is performing. A low accuracy on the training and validation\n",
    "sets imply underfitting. A high accuracy on the training set but low accuracy on the validation set implies overfitting."
   ]
  },
  {
   "cell_type": "code",
   "execution_count": 11,
   "metadata": {
    "collapsed": false,
    "deletable": true,
    "editable": true
   },
   "outputs": [
    {
     "name": "stdout",
     "output_type": "stream",
     "text": [
      "Training...\n",
      "\n",
      "EPOCH 1 ...\n",
      "Validation Accuracy = 0.893\n",
      "Model saved\n",
      "\n"
     ]
    }
   ],
   "source": [
    "EPOCHS = 1\n",
    "BATCH_SIZE = 128\n",
    "\n",
    "### Train your model here.\n",
    "### Calculate and report the accuracy on the training and validation set.\n",
    "### Once a final model architecture is selected, \n",
    "### the accuracy on the test set should be calculated and reported as well.\n",
    "### Feel free to use as many code cells as needed.\n",
    "\n",
    "rate = 0.001\n",
    "\n",
    "#adjustable learning rate to avoid divergence\n",
    "learning_rate = tf.placeholder(tf.float32, shape=[])\n",
    "\n",
    "\n",
    "#logits = LeNet(x_image)\n",
    "cross_entropy = tf.nn.softmax_cross_entropy_with_logits(logits=logits, labels=one_hot_y)\n",
    "loss_operation = tf.reduce_mean(cross_entropy)\n",
    "optimizer = tf.train.AdamOptimizer(learning_rate = learning_rate)\n",
    "training_operation = optimizer.minimize(loss_operation)\n",
    "\n",
    "###\n",
    "\n",
    "correct_prediction = tf.equal(tf.argmax(logits, 1), tf.argmax(one_hot_y, 1))\n",
    "accuracy_operation = tf.reduce_mean(tf.cast(correct_prediction, tf.float32))\n",
    "saver = tf.train.Saver()\n",
    "\n",
    "def evaluate(X_data, y_data):\n",
    "    num_examples = len(X_data)\n",
    "    total_accuracy = 0 \n",
    "    sess = tf.get_default_session()\n",
    "    for offset in range(0, num_examples, BATCH_SIZE):\n",
    "        batch_x, batch_y = X_data[offset:offset+BATCH_SIZE], y_data[offset:offset+BATCH_SIZE]\n",
    "        accuracy = sess.run(accuracy_operation, feed_dict={x: batch_x, y: batch_y, keep_prob:1})\n",
    "        total_accuracy += (accuracy * len(batch_x))\n",
    "    return total_accuracy / num_examples\n",
    "\n",
    "####\n",
    "\n",
    "with tf.Session() as sess:\n",
    "    sess.run(tf.global_variables_initializer())\n",
    "    num_examples = n_train\n",
    "    new_rate = rate\n",
    "    last_accuracy = 0\n",
    "    max_accuracy = 0\n",
    "    \n",
    "    print(\"Training...\")\n",
    "    print()\n",
    "    for i in range(EPOCHS):\n",
    "        X_train, y_train = shuffle(X_train, y_train)        \n",
    "        for offset in range(0, num_examples, BATCH_SIZE):\n",
    "            end = offset + BATCH_SIZE\n",
    "            batch_x, batch_y = X_train[offset:end], y_train[offset:end]\n",
    "            _, loss_val = sess.run([training_operation, loss_operation], feed_dict={x: batch_x, y: batch_y, learning_rate: new_rate, keep_prob:0.5})\n",
    "            #print(\"Loss = {:.3f}\".format(loss_val))        \n",
    "            #print()\n",
    "            \n",
    "        validation_accuracy = evaluate(X_valid, y_valid)\n",
    "        print(\"EPOCH {} ...\".format(i+1))\n",
    "        print(\"Validation Accuracy = {:.3f}\".format(validation_accuracy))        \n",
    "        if validation_accuracy > 0.9:\n",
    "            if (last_accuracy==0 or (validation_accuracy - last_accuracy) < -0.002):\n",
    "                new_rate = new_rate / 100\n",
    "                print(\"New learning rate = {:.6f}\".format(new_rate))\n",
    "            elif ((validation_accuracy - last_accuracy) > -0.001 and ((validation_accuracy - last_accuracy) <= 0.0001)):\n",
    "                new_rate = new_rate * 10\n",
    "                print(\"New learning rate = {:.6f}\".format(new_rate))\n",
    "            last_accuracy = validation_accuracy\n",
    "        if validation_accuracy > max_accuracy:\n",
    "            saver.save(sess, './lenet')\n",
    "            max_accuracy = validation_accuracy\n",
    "            print(\"Model saved\")\n",
    "        print()    "
   ]
  },
  {
   "cell_type": "code",
   "execution_count": null,
   "metadata": {
    "collapsed": false,
    "deletable": true,
    "editable": true
   },
   "outputs": [],
   "source": [
    "\n",
    "with tf.Session() as sess:\n",
    "    saver.restore(sess, tf.train.latest_checkpoint('.'))\n",
    "\n",
    "    test_accuracy = evaluate(X_test, y_test)\n",
    "    print(\"Test Accuracy = {:.3f}\".format(test_accuracy))"
   ]
  },
  {
   "cell_type": "markdown",
   "metadata": {
    "deletable": true,
    "editable": true
   },
   "source": [
    "---\n",
    "\n",
    "## Step 3: Test a Model on New Images\n",
    "\n",
    "To give yourself more insight into how your model is working, download at least five pictures of German traffic signs from the web and use your model to predict the traffic sign type.\n",
    "\n",
    "You may find `signnames.csv` useful as it contains mappings from the class id (integer) to the actual sign name."
   ]
  },
  {
   "cell_type": "markdown",
   "metadata": {
    "deletable": true,
    "editable": true
   },
   "source": [
    "### Load and Output the Images"
   ]
  },
  {
   "cell_type": "code",
   "execution_count": 7,
   "metadata": {
    "collapsed": false,
    "deletable": true,
    "editable": true
   },
   "outputs": [
    {
     "name": "stdout",
     "output_type": "stream",
     "text": [
      "Image  50km.jpg  is: <class 'numpy.ndarray'> with dimesions: (32, 32, 3)\n",
      "Image  priority.jpg  is: <class 'numpy.ndarray'> with dimesions: (32, 32, 3)\n",
      "Image  children.jpg  is: <class 'numpy.ndarray'> with dimesions: (32, 32, 3)\n",
      "Image  60km_not_crop.jpg  is: <class 'numpy.ndarray'> with dimesions: (32, 32, 3)\n",
      "Image  stop.jpg  is: <class 'numpy.ndarray'> with dimesions: (32, 32, 3)\n"
     ]
    },
    {
     "data": {
      "image/png": "[encoded data removed]",
      "text/plain": [
       "<matplotlib.figure.Figure at 0x7f8508459be0>"
      ]
     },
     "metadata": {},
     "output_type": "display_data"
    },
    {
     "data": {
      "image/png": "[encoded data removed]",
      "text/plain": [
       "<matplotlib.figure.Figure at 0x7f850073aac8>"
      ]
     },
     "metadata": {},
     "output_type": "display_data"
    },
    {
     "data": {
      "image/png": "[encoded data removed]",
      "text/plain": [
       "<matplotlib.figure.Figure at 0x7f8500713390>"
      ]
     },
     "metadata": {},
     "output_type": "display_data"
    },
    {
     "data": {
      "image/png": "[encoded data removed]",
      "text/plain": [
       "<matplotlib.figure.Figure at 0x7f85006d8828>"
      ]
     },
     "metadata": {},
     "output_type": "display_data"
    },
    {
     "data": {
      "image/png": "[encoded data removed]",
      "text/plain": [
       "<matplotlib.figure.Figure at 0x7f85006b0278>"
      ]
     },
     "metadata": {},
     "output_type": "display_data"
    }
   ],
   "source": [
    "### Load the images and plot them here.\n",
    "### Feel free to use as many code cells as needed.\n",
    "#For image manipulation\n",
    "import matplotlib.pyplot as plt\n",
    "import matplotlib.image as mpimg\n",
    "import os\n",
    "import cv2\n",
    "\n",
    "PATH = 'german_signs/crop/'\n",
    "\n",
    "web_images_input = []\n",
    "for f in os.listdir(PATH): \n",
    "    #open image \n",
    "    img = mpimg.imread(PATH + f)  \n",
    "    #crop center to avoid distortion\n",
    "    iy,ix,ic = img.shape\n",
    "    startx = ix//2-(352//2)\n",
    "    starty = iy//2-(352//2)    \n",
    "    #img = img[starty:starty+352,startx:startx+352]\n",
    "    #resize\n",
    "    img = cv2.resize(img,(32,32), interpolation = cv2.INTER_AREA)\n",
    "    web_images_input.append(img)\n",
    "    #print image dimensions\n",
    "    print('Image ', f,' is:', type(img), 'with dimesions:', img.shape)\n",
    "    #show image    \n",
    "    plt.figure()\n",
    "    plt.imshow(img) \n",
    "    \n",
    "web_images = np.array(web_images_input)\n",
    "    "
   ]
  },
  {
   "cell_type": "markdown",
   "metadata": {
    "deletable": true,
    "editable": true
   },
   "source": [
    "### Predict the Sign Type for Each Image"
   ]
  },
  {
   "cell_type": "code",
   "execution_count": 33,
   "metadata": {
    "collapsed": false,
    "deletable": true,
    "editable": true
   },
   "outputs": [
    {
     "name": "stdout",
     "output_type": "stream",
     "text": [
      "[  5.51955175  13.89691544  12.46350098   4.17362261   1.69766271\n",
      "   6.99117041   7.66333246   1.90411329  -1.87265229  -8.81552315\n",
      "  -2.49900389 -16.28933525  -8.87540531 -12.89953327  -1.20665526\n",
      " -11.85198784  -3.82415652  -5.07512093 -14.84632492  -3.81631517\n",
      " -12.15784168 -12.57719707 -27.0103817  -15.9572649  -17.62949181\n",
      " -10.57437229 -12.68103218 -21.07980156 -18.61050606 -21.96561241\n",
      " -11.97024632  -6.61436796  -6.26782703  -7.44454813 -15.80616093\n",
      " -14.13952827 -15.94220638  -0.78981948  -0.08750509 -14.31062508\n",
      "  -1.67782557 -14.23515701]\n",
      "1\n",
      "[ -7.19299316  -1.63519931  -5.29898071  -3.40470529  -7.64245224\n",
      "  -5.39453602  -4.1059866  -11.28662109  -7.81830978  -6.10898638\n",
      "  -5.79457808  -3.68319464  -4.27994442   1.46472394   0.25131524\n",
      "  -6.47913837  -9.44765091  -6.63180733  -1.09144294  -3.62968683\n",
      "  -2.80966234  -4.15511894  -2.54240203  -1.95925522  -2.44314027\n",
      "   1.76124918  -4.35741615  -3.36680269  -4.27248764  -3.62866354\n",
      "  -2.68379879  -1.95436716  -7.47450638  -6.04359674   1.85556901\n",
      "  -3.02574205  -0.06528097  -4.34883738   8.16406441  -8.35831356\n",
      "  -3.9878664   -7.71651888]\n",
      "38\n",
      "[-17.27807617  -9.16527557 -10.84472084  -9.71986103 -18.77299309\n",
      "  -7.82560968 -19.43662071 -14.75692749  -8.7633419  -12.77935028\n",
      " -16.85441208  -2.00459599  -9.30815792 -12.26967239 -19.35309792\n",
      " -13.76260853 -11.02840233 -10.35499954  -1.76421213  -1.36408532\n",
      "   1.87368214   0.18503407   1.37797236  -3.44589663   6.19226599\n",
      "  -5.61716795  -4.02760506  -0.46594816   8.29754162   5.59027195\n",
      "   3.43232465  -4.10224485 -13.8545475   -6.68700981  -9.47091389\n",
      " -10.26701546 -12.93612576 -15.3928175  -11.44532967  -9.3502779\n",
      "  -5.0392642  -13.02384377]\n",
      "28\n",
      "[  1.65603876   7.90347481   9.01561356  12.68688774  -4.38143253\n",
      "   8.75358486   7.45041323  -2.14243937  -5.71240854  -3.82297683\n",
      "   3.08106494 -15.46500683 -10.07628155 -11.43995857  -6.15061378\n",
      "  -9.30921936  -0.94233358 -12.04328442 -16.33342171  -2.2144165\n",
      "  -5.90993834  -9.60550594 -24.49224854  -9.75604439 -15.67227554\n",
      "  -9.0334568  -13.98872375 -18.20070267 -16.44782639 -14.93749237\n",
      " -13.65365505  -2.58512306  -6.06570101  -9.00944614 -11.21797752\n",
      "  -8.62041187 -11.98972607  -5.3190155    3.14423704 -20.76431656\n",
      "  -6.95268774  -8.8134861 ]\n",
      "3\n",
      "[ -2.83544254   0.89229983   0.75065583  -0.16652472  -0.63747865\n",
      "  -0.29731691  -4.79391098  -2.32631874   0.1956729   -4.05467224\n",
      " -10.09805012  -7.36386251  -0.07700724   0.99345011   7.85717201\n",
      "  -0.34588024  -8.78348923  -0.70567739  -2.84322906  -5.20941353\n",
      " -12.38506317 -10.96341801  -8.78308773 -10.35398293  -2.84672666\n",
      "  -2.63271999  -1.38764739  -6.38573837  -8.72214794  -5.8510747\n",
      "  -5.31696653  -7.34885025  -2.58435965   0.73769295  -2.9432826\n",
      "  -6.62269211  -3.37054014  -2.67209911   0.15780586   3.27438593\n",
      "  -2.10301971  -8.12790108]\n",
      "14\n"
     ]
    }
   ],
   "source": [
    "### Run the predictions here and use the model to output the prediction for each image.\n",
    "### Make sure to pre-process the images with the same pre-processing pipeline used earlier.\n",
    "### Feel free to use as many code cells as needed.\n",
    "\n",
    "#x_image = tf.map_fn(lambda img: tf.image.central_crop(img, .80), x_image) \n",
    "\n",
    "with tf.Session() as sess:\n",
    "    saver.restore(sess, tf.train.latest_checkpoint('.'))\n",
    "\n",
    "    logs = sess.run(logits, feed_dict={x: web_images, keep_prob:1})\n",
    "    \n",
    "    for log in logs:\n",
    "        print(log)\n",
    "        print(np.argmax(log))"
   ]
  },
  {
   "cell_type": "markdown",
   "metadata": {
    "deletable": true,
    "editable": true
   },
   "source": [
    "### Analyze Performance"
   ]
  },
  {
   "cell_type": "code",
   "execution_count": null,
   "metadata": {
    "collapsed": true,
    "deletable": true,
    "editable": true
   },
   "outputs": [],
   "source": [
    "### Calculate the accuracy for these 5 new images. \n",
    "### For example, if the model predicted 1 out of 5 signs correctly, it's 20% accurate on these new images."
   ]
  },
  {
   "cell_type": "markdown",
   "metadata": {
    "deletable": true,
    "editable": true
   },
   "source": [
    "### Output Top 5 Softmax Probabilities For Each Image Found on the Web"
   ]
  },
  {
   "cell_type": "markdown",
   "metadata": {
    "deletable": true,
    "editable": true
   },
   "source": [
    "For each of the new images, print out the model's softmax probabilities to show the **certainty** of the model's predictions (limit the output to the top 5 probabilities for each image). [`tf.nn.top_k`](https://www.tensorflow.org/versions/r0.12/api_docs/python/nn.html#top_k) could prove helpful here. \n",
    "\n",
    "The example below demonstrates how tf.nn.top_k can be used to find the top k predictions for each image.\n",
    "\n",
    "`tf.nn.top_k` will return the values and indices (class ids) of the top k predictions. So if k=3, for each sign, it'll return the 3 largest probabilities (out of a possible 43) and the correspoding class ids.\n",
    "\n",
    "Take this numpy array as an example. The values in the array represent predictions. The array contains softmax probabilities for five candidate images with six possible classes. `tk.nn.top_k` is used to choose the three classes with the highest probability:\n",
    "\n",
    "```\n",
    "# (5, 6) array\n",
    "a = np.array([[ 0.24879643,  0.07032244,  0.12641572,  0.34763842,  0.07893497,\n",
    "         0.12789202],\n",
    "       [ 0.28086119,  0.27569815,  0.08594638,  0.0178669 ,  0.18063401,\n",
    "         0.15899337],\n",
    "       [ 0.26076848,  0.23664738,  0.08020603,  0.07001922,  0.1134371 ,\n",
    "         0.23892179],\n",
    "       [ 0.11943333,  0.29198961,  0.02605103,  0.26234032,  0.1351348 ,\n",
    "         0.16505091],\n",
    "       [ 0.09561176,  0.34396535,  0.0643941 ,  0.16240774,  0.24206137,\n",
    "         0.09155967]])\n",
    "```\n",
    "\n",
    "Running it through `sess.run(tf.nn.top_k(tf.constant(a), k=3))` produces:\n",
    "\n",
    "```\n",
    "TopKV2(values=array([[ 0.34763842,  0.24879643,  0.12789202],\n",
    "       [ 0.28086119,  0.27569815,  0.18063401],\n",
    "       [ 0.26076848,  0.23892179,  0.23664738],\n",
    "       [ 0.29198961,  0.26234032,  0.16505091],\n",
    "       [ 0.34396535,  0.24206137,  0.16240774]]), indices=array([[3, 0, 5],\n",
    "       [0, 1, 4],\n",
    "       [0, 5, 1],\n",
    "       [1, 3, 5],\n",
    "       [1, 4, 3]], dtype=int32))\n",
    "```\n",
    "\n",
    "Looking just at the first row we get `[ 0.34763842,  0.24879643,  0.12789202]`, you can confirm these are the 3 largest probabilities in `a`. You'll also notice `[3, 0, 5]` are the corresponding indices."
   ]
  },
  {
   "cell_type": "code",
   "execution_count": 38,
   "metadata": {
    "collapsed": false,
    "deletable": true,
    "editable": true
   },
   "outputs": [
    {
     "name": "stdout",
     "output_type": "stream",
     "text": [
      "TopKV2(values=array([[ 13.89691544,  12.46350098,   7.66333246,   6.99117041,\n",
      "          5.51955175],\n",
      "       [  8.16406441,   1.85556901,   1.76124918,   1.46472394,\n",
      "          0.25131524],\n",
      "       [  8.29754162,   6.19226599,   5.59027195,   3.43232465,\n",
      "          1.87368214],\n",
      "       [ 12.68688774,   9.01561356,   8.75358486,   7.90347481,\n",
      "          7.45041323],\n",
      "       [  7.85717201,   3.27438593,   0.99345011,   0.89229983,\n",
      "          0.75065583]], dtype=float32), indices=array([[ 1,  2,  6,  5,  0],\n",
      "       [38, 34, 25, 13, 14],\n",
      "       [28, 24, 29, 30, 20],\n",
      "       [ 3,  2,  5,  1,  6],\n",
      "       [14, 39, 13,  1,  2]], dtype=int32))\n"
     ]
    }
   ],
   "source": [
    "### Print out the top five softmax probabilities for the predictions on the German traffic sign images found on the web. \n",
    "### Feel free to use as many code cells as needed.\n",
    "\n",
    "top_k_op = tf.nn.top_k(logits, 5)\n",
    "\n",
    "with tf.Session() as sess:\n",
    "    saver.restore(sess, tf.train.latest_checkpoint('.'))\n",
    "\n",
    "    logs = sess.run(top_k_op, feed_dict={x: web_images, keep_prob:1})\n",
    "    print(logs)"
   ]
  },
  {
   "cell_type": "markdown",
   "metadata": {
    "deletable": true,
    "editable": true
   },
   "source": [
    "---\n",
    "\n",
    "## Step 4: Visualize the Neural Network's State with Test Images\n",
    "\n",
    " This Section is not required to complete but acts as an additional excersise for understaning the output of a neural network's weights. While neural networks can be a great learning device they are often referred to as a black box. We can understand what the weights of a neural network look like better by plotting their feature maps. After successfully training your neural network you can see what it's feature maps look like by plotting the output of the network's weight layers in response to a test stimuli image. From these plotted feature maps, it's possible to see what characteristics of an image the network finds interesting. For a sign, maybe the inner network feature maps react with high activation to the sign's boundary outline or to the contrast in the sign's painted symbol.\n",
    "\n",
    " Provided for you below is the function code that allows you to get the visualization output of any tensorflow weight layer you want. The inputs to the function should be a stimuli image, one used during training or a new one you provided, and then the tensorflow variable name that represents the layer's state during the training process, for instance if you wanted to see what the [LeNet lab's](https://classroom.udacity.com/nanodegrees/nd013/parts/fbf77062-5703-404e-b60c-95b78b2f3f9e/modules/6df7ae49-c61c-4bb2-a23e-6527e69209ec/lessons/601ae704-1035-4287-8b11-e2c2716217ad/concepts/d4aca031-508f-4e0b-b493-e7b706120f81) feature maps looked like for it's second convolutional layer you could enter conv2 as the tf_activation variable.\n",
    "\n",
    "For an example of what feature map outputs look like, check out NVIDIA's results in their paper [End-to-End Deep Learning for Self-Driving Cars](https://devblogs.nvidia.com/parallelforall/deep-learning-self-driving-cars/) in the section Visualization of internal CNN State. NVIDIA was able to show that their network's inner weights had high activations to road boundary lines by comparing feature maps from an image with a clear path to one without. Try experimenting with a similar test to show that your trained network's weights are looking for interesting features, whether it's looking at differences in feature maps from images with or without a sign, or even what feature maps look like in a trained network vs a completely untrained one on the same sign image.\n",
    "\n",
    "<figure>\n",
    " <img src=\"visualize_cnn.png\" width=\"380\" alt=\"Combined Image\" />\n",
    " <figcaption>\n",
    " <p></p> \n",
    " <p style=\"text-align: center;\"> Your output should look something like this (above)</p> \n",
    " </figcaption>\n",
    "</figure>\n",
    " <p></p> \n"
   ]
  },
  {
   "cell_type": "code",
   "execution_count": 29,
   "metadata": {
    "collapsed": false,
    "deletable": true,
    "editable": true
   },
   "outputs": [
    {
     "data": {
      "image/png": "[encoded data removed]",
      "text/plain": [
       "<matplotlib.figure.Figure at 0x7f84bbd37128>"
      ]
     },
     "metadata": {},
     "output_type": "display_data"
    }
   ],
   "source": [
    "### Visualize your network's feature maps here.\n",
    "### Feel free to use as many code cells as needed.\n",
    "\n",
    "# image_input: the test image being fed into the network to produce the feature maps\n",
    "# tf_activation: should be a tf variable name used during your training procedure that represents the calculated state of a specific weight layer\n",
    "# activation_min/max: can be used to view the activation contrast in more detail, by default matplot sets min and max to the actual min and max values of the output\n",
    "# plt_num: used to plot out multiple different weight feature map sets on the same block, just extend the plt number for each new feature map entry\n",
    "\n",
    "def outputFeatureMap(name, image_input, tf_activation, activation_min=-1, activation_max=-1 ,plt_num=1):\n",
    "    # Here make sure to preprocess your image_input in a way your network expects\n",
    "    # with size, normalization, ect if needed\n",
    "    # image_input =\n",
    "    # Note: x should be the same name as your network's tensorflow data placeholder variable\n",
    "    # If you get an error tf_activation is not defined it maybe having trouble accessing the variable from inside a function\n",
    "    activation = tf_activation.eval(session=sess,feed_dict={x : image_input})\n",
    "    featuremaps = activation.shape[3]\n",
    "    plt.figure(plt_num, figsize=(15,15))\n",
    "    plt.suptitle('Layer ' + layer, fontsize=14, fontweight='bold') \n",
    "    for featuremap in range(featuremaps):\n",
    "        plt.subplot(8,8, featuremap+1) # sets the number of feature maps to show on each row and column\n",
    "        plt.title('FeatureMap ' + str(featuremap)) # displays the feature map number\n",
    "        if activation_min != -1 & activation_max != -1:\n",
    "            plt.imshow(activation[0,:,:, featuremap], interpolation=\"nearest\", vmin =activation_min, vmax=activation_max, cmap=\"gray\")\n",
    "        elif activation_max != -1:\n",
    "            plt.imshow(activation[0,:,:, featuremap], interpolation=\"nearest\", vmax=activation_max, cmap=\"gray\")\n",
    "        elif activation_min !=-1:\n",
    "            plt.imshow(activation[0,:,:, featuremap], interpolation=\"nearest\", vmin=activation_min, cmap=\"gray\")\n",
    "        else:\n",
    "            plt.imshow(activation[0,:,:, featuremap], interpolation=\"nearest\", cmap=\"gray\")\n",
    "    plt.savefig('layers/' + name + '.png', dpi=100)\n",
    "\n",
    "            \n",
    "layers = ['conv1:0', 'relu1:0', 'conv2:0', 'relu2:0', 'pool1:0', 'conv3:0', 'relu3:0', 'conv4:0', 'relu4:0', 'pool2:0']\n",
    "            \n",
    "with tf.Session() as sess:\n",
    "    saver.restore(sess, tf.train.latest_checkpoint('.'))    \n",
    "    for layer in layers:        \n",
    "        activation = sess.graph.get_tensor_by_name(layer)\n",
    "        outputFeatureMap(layer, [web_images[0]], activation) "
   ]
  },
  {
   "cell_type": "markdown",
   "metadata": {
    "deletable": true,
    "editable": true
   },
   "source": [
    "### Question 9\n",
    "\n",
    "Discuss how you used the visual output of your trained network's feature maps to show that it had learned to look for interesting characteristics in traffic sign images\n"
   ]
  },
  {
   "cell_type": "markdown",
   "metadata": {
    "deletable": true,
    "editable": true
   },
   "source": [
    "**Answer:**"
   ]
  },
  {
   "cell_type": "markdown",
   "metadata": {
    "deletable": true,
    "editable": true
   },
   "source": [
    "> **Note**: Once you have completed all of the code implementations and successfully answered each question above, you may finalize your work by exporting the iPython Notebook as an HTML document. You can do this by using the menu above and navigating to  \\n\",\n",
    "    \"**File -> Download as -> HTML (.html)**. Include the finished document along with this notebook as your submission."
   ]
  },
  {
   "cell_type": "markdown",
   "metadata": {
    "deletable": true,
    "editable": true
   },
   "source": [
    "### Project Writeup\n",
    "\n",
    "Once you have completed the code implementation, document your results in a project writeup using this [template](https://github.com/udacity/CarND-Traffic-Sign-Classifier-Project/blob/master/writeup_template.md) as a guide. The writeup can be in a markdown or pdf file. "
   ]
  }
 ],
 "metadata": {
  "anaconda-cloud": {},
  "kernelspec": {
   "display_name": "Python 3",
   "language": "python",
   "name": "python3"
  },
  "language_info": {
   "codemirror_mode": {
    "name": "ipython",
    "version": 3
   },
   "file_extension": ".py",
   "mimetype": "text/x-python",
   "name": "python",
   "nbconvert_exporter": "python",
   "pygments_lexer": "ipython3",
   "version": "3.5.2"
  },
  "widgets": {
   "state": {},
   "version": "1.1.2"
  }
 },
 "nbformat": 4,
 "nbformat_minor": 1
}
